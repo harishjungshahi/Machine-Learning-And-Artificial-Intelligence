{
 "cells": [
  {
   "cell_type": "markdown",
   "id": "ba8ede74",
   "metadata": {},
   "source": [
    "# Harish Practise: Clustering Plant Iris Using Principal Component Analysis"
   ]
  },
  {
   "cell_type": "markdown",
   "id": "550269cb",
   "metadata": {},
   "source": [
    "# Importing Basic Libraries"
   ]
  },
  {
   "cell_type": "code",
   "execution_count": 1,
   "id": "ff5b9307",
   "metadata": {},
   "outputs": [],
   "source": [
    "from sklearn import datasets\n",
    "import matplotlib.pyplot as plt"
   ]
  },
  {
   "cell_type": "markdown",
   "id": "398f2800",
   "metadata": {},
   "source": [
    "# Importing the dataset"
   ]
  },
  {
   "cell_type": "code",
   "execution_count": 2,
   "id": "add7bf0a",
   "metadata": {},
   "outputs": [],
   "source": [
    "dataset = datasets.load_iris()"
   ]
  },
  {
   "cell_type": "markdown",
   "id": "44555f40",
   "metadata": {},
   "source": [
    "# Data Segregation"
   ]
  },
  {
   "cell_type": "code",
   "execution_count": 3,
   "id": "4bcf6e10",
   "metadata": {},
   "outputs": [],
   "source": [
    "X = dataset.data\n",
    "y = dataset.target\n",
    "names = dataset.target_names"
   ]
  },
  {
   "cell_type": "markdown",
   "id": "2530ae0e",
   "metadata": {},
   "source": [
    "# Fitting the PCA clustering to the dataset with n=2"
   ]
  },
  {
   "cell_type": "code",
   "execution_count": 4,
   "id": "24f00cef",
   "metadata": {},
   "outputs": [],
   "source": [
    "from sklearn.decomposition import PCA\n",
    "model = PCA(n_components=2) #Number of Components to keep\n",
    "y_means = model.fit(X).transform(X)"
   ]
  },
  {
   "cell_type": "markdown",
   "id": "34fd2993",
   "metadata": {},
   "source": [
    "# Variance Percentage"
   ]
  },
  {
   "cell_type": "code",
   "execution_count": 5,
   "id": "395df8bb",
   "metadata": {},
   "outputs": [
    {
     "data": {
      "image/png": "[encoded data removed]",
      "text/plain": [
       "<Figure size 432x288 with 1 Axes>"
      ]
     },
     "metadata": {
      "needs_background": "light"
     },
     "output_type": "display_data"
    }
   ],
   "source": [
    "plt.figure()\n",
    "colors = ['red','green','orange']\n",
    "\n",
    "for color, i, target_name in zip(colors,[0,1,2], names):\n",
    "    plt.scatter(y_means[y==i,0],y_means[y==i,1], color=color, lw=2, label=target_name)\n",
    "\n",
    "plt.title('IRIS CLUSTERING')\n",
    "plt.show()"
   ]
  }
 ],
 "metadata": {
  "kernelspec": {
   "display_name": "Python 3 (ipykernel)",
   "language": "python",
   "name": "python3"
  },
  "language_info": {
   "codemirror_mode": {
    "name": "ipython",
    "version": 3
   },
   "file_extension": ".py",
   "mimetype": "text/x-python",
   "name": "python",
   "nbconvert_exporter": "python",
   "pygments_lexer": "ipython3",
   "version": "3.9.12"
  }
 },
 "nbformat": 4,
 "nbformat_minor": 5
}
