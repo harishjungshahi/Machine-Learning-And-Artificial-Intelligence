{
 "cells": [
  {
   "cell_type": "markdown",
   "id": "3392ebcb",
   "metadata": {},
   "source": [
    "# Harish Practise: Clusterring Income Spent Using Hierarchial Clusterring"
   ]
  },
  {
   "cell_type": "markdown",
   "id": "b214152c",
   "metadata": {},
   "source": [
    "# Importing Libraries"
   ]
  },
  {
   "cell_type": "code",
   "execution_count": 1,
   "id": "c39075ea",
   "metadata": {},
   "outputs": [],
   "source": [
    "import pandas as pd\n",
    "import matplotlib.pyplot as plt"
   ]
  },
  {
   "cell_type": "markdown",
   "id": "2aa7371b",
   "metadata": {},
   "source": [
    "# Load and Summarize Dataframe"
   ]
  },
  {
   "cell_type": "code",
   "execution_count": 2,
   "id": "41f65651",
   "metadata": {},
   "outputs": [],
   "source": [
    "df = pd.read_csv('dataset.csv')"
   ]
  },
  {
   "cell_type": "code",
   "execution_count": 5,
   "id": "18e392a8",
   "metadata": {},
   "outputs": [
    {
     "name": "stdout",
     "output_type": "stream",
     "text": [
      "(200, 5)\n",
      "       CustomerID         Age  Annual Income (k$)  Spending Score\n",
      "count  200.000000  200.000000          200.000000      200.000000\n",
      "mean   100.500000   38.850000           60.560000       50.200000\n",
      "std     57.879185   13.969007           26.264721       25.823522\n",
      "min      1.000000   18.000000           15.000000        1.000000\n",
      "25%     50.750000   28.750000           41.500000       34.750000\n",
      "50%    100.500000   36.000000           61.500000       50.000000\n",
      "75%    150.250000   49.000000           78.000000       73.000000\n",
      "max    200.000000   70.000000          137.000000       99.000000\n",
      "   CustomerID  Gender  Age  Annual Income (k$)  Spending Score\n",
      "0           1    Male   19                  15              39\n",
      "1           2    Male   21                  15              81\n",
      "2           3  Female   20                  16               6\n",
      "3           4  Female   23                  16              77\n",
      "4           5  Female   31                  17              40\n"
     ]
    }
   ],
   "source": [
    "print(df.shape)\n",
    "print(df.describe())\n",
    "print(df.head())"
   ]
  },
  {
   "cell_type": "markdown",
   "id": "f569ea79",
   "metadata": {},
   "source": [
    "# Label Encoding"
   ]
  },
  {
   "cell_type": "code",
   "execution_count": 7,
   "id": "6449a1dd",
   "metadata": {},
   "outputs": [
    {
     "data": {
      "text/html": [
       "<div>\n",
       "<style scoped>\n",
       "    .dataframe tbody tr th:only-of-type {\n",
       "        vertical-align: middle;\n",
       "    }\n",
       "\n",
       "    .dataframe tbody tr th {\n",
       "        vertical-align: top;\n",
       "    }\n",
       "\n",
       "    .dataframe thead th {\n",
       "        text-align: right;\n",
       "    }\n",
       "</style>\n",
       "<table border=\"1\" class=\"dataframe\">\n",
       "  <thead>\n",
       "    <tr style=\"text-align: right;\">\n",
       "      <th></th>\n",
       "      <th>CustomerID</th>\n",
       "      <th>Gender</th>\n",
       "      <th>Age</th>\n",
       "      <th>Annual Income (k$)</th>\n",
       "      <th>Spending Score</th>\n",
       "    </tr>\n",
       "  </thead>\n",
       "  <tbody>\n",
       "    <tr>\n",
       "      <th>0</th>\n",
       "      <td>1</td>\n",
       "      <td>1</td>\n",
       "      <td>19</td>\n",
       "      <td>15</td>\n",
       "      <td>39</td>\n",
       "    </tr>\n",
       "    <tr>\n",
       "      <th>1</th>\n",
       "      <td>2</td>\n",
       "      <td>1</td>\n",
       "      <td>21</td>\n",
       "      <td>15</td>\n",
       "      <td>81</td>\n",
       "    </tr>\n",
       "    <tr>\n",
       "      <th>2</th>\n",
       "      <td>3</td>\n",
       "      <td>0</td>\n",
       "      <td>20</td>\n",
       "      <td>16</td>\n",
       "      <td>6</td>\n",
       "    </tr>\n",
       "    <tr>\n",
       "      <th>3</th>\n",
       "      <td>4</td>\n",
       "      <td>0</td>\n",
       "      <td>23</td>\n",
       "      <td>16</td>\n",
       "      <td>77</td>\n",
       "    </tr>\n",
       "    <tr>\n",
       "      <th>4</th>\n",
       "      <td>5</td>\n",
       "      <td>0</td>\n",
       "      <td>31</td>\n",
       "      <td>17</td>\n",
       "      <td>40</td>\n",
       "    </tr>\n",
       "  </tbody>\n",
       "</table>\n",
       "</div>"
      ],
      "text/plain": [
       "   CustomerID  Gender  Age  Annual Income (k$)  Spending Score\n",
       "0           1       1   19                  15              39\n",
       "1           2       1   21                  15              81\n",
       "2           3       0   20                  16               6\n",
       "3           4       0   23                  16              77\n",
       "4           5       0   31                  17              40"
      ]
     },
     "execution_count": 7,
     "metadata": {},
     "output_type": "execute_result"
    }
   ],
   "source": [
    "from sklearn import preprocessing\n",
    "label_encoder = preprocessing.LabelEncoder()\n",
    "df['Gender'] = label_encoder.fit_transform(df['Gender'])\n",
    "df.head()"
   ]
  },
  {
   "cell_type": "markdown",
   "id": "6277fe08",
   "metadata": {},
   "source": [
    "# Dendrogram Data visualization"
   ]
  },
  {
   "cell_type": "code",
   "execution_count": 10,
   "id": "4f821f2c",
   "metadata": {},
   "outputs": [
    {
     "data": {
      "image/png": "[encoded data removed]",
      "text/plain": [
       "<Figure size 1152x576 with 1 Axes>"
      ]
     },
     "metadata": {
      "needs_background": "light"
     },
     "output_type": "display_data"
    }
   ],
   "source": [
    "import scipy.cluster.hierarchy as clus\n",
    "plt.figure(1,figsize=(16,8))\n",
    "dendrogram=clus.dendrogram(clus.linkage(df,method='ward'))\n",
    "\n",
    "plt.title('Dendogram Tree Graph')\n",
    "plt.xlabel('Customers')\n",
    "plt.ylabel('Distances')\n",
    "plt.show()"
   ]
  },
  {
   "cell_type": "markdown",
   "id": "e36bf3c9",
   "metadata": {},
   "source": [
    "# Fitting the Hierarchial clustering to the dataset with n=5"
   ]
  },
  {
   "cell_type": "code",
   "execution_count": 14,
   "id": "72d34f6f",
   "metadata": {},
   "outputs": [
    {
     "data": {
      "text/plain": [
       "array([3, 4, 3, 4, 3, 4, 3, 4, 3, 4, 3, 4, 3, 4, 3, 4, 3, 4, 3, 4, 3, 4,\n",
       "       3, 4, 3, 4, 3, 4, 3, 4, 3, 4, 3, 4, 3, 4, 3, 4, 3, 4, 3, 4, 3, 2,\n",
       "       3, 2, 2, 2, 2, 2, 2, 2, 2, 2, 2, 2, 2, 2, 2, 2, 2, 2, 2, 2, 2, 2,\n",
       "       2, 2, 2, 2, 2, 2, 2, 2, 2, 2, 2, 2, 2, 2, 2, 2, 2, 2, 2, 2, 2, 2,\n",
       "       2, 2, 2, 2, 2, 2, 2, 2, 2, 2, 2, 2, 2, 2, 2, 2, 2, 2, 2, 2, 2, 2,\n",
       "       2, 2, 2, 2, 2, 2, 2, 2, 2, 2, 2, 2, 2, 1, 0, 1, 2, 1, 0, 1, 0, 1,\n",
       "       0, 1, 0, 1, 0, 1, 0, 1, 0, 1, 0, 1, 0, 1, 0, 1, 0, 1, 0, 1, 0, 1,\n",
       "       0, 1, 0, 1, 0, 1, 0, 1, 0, 1, 0, 1, 0, 1, 0, 1, 0, 1, 0, 1, 0, 1,\n",
       "       0, 1, 0, 1, 0, 1, 0, 1, 0, 1, 0, 1, 0, 1, 0, 1, 0, 1, 0, 1, 0, 1,\n",
       "       0, 1], dtype=int64)"
      ]
     },
     "execution_count": 14,
     "metadata": {},
     "output_type": "execute_result"
    }
   ],
   "source": [
    "from sklearn.cluster import AgglomerativeClustering \n",
    "model = AgglomerativeClustering(n_clusters = 5, affinity = 'euclidean', linkage ='average')\n",
    "y_means = model.fit_predict(df)\n",
    "y_means"
   ]
  },
  {
   "cell_type": "markdown",
   "id": "a407e254",
   "metadata": {},
   "source": [
    "# Visualizing the number of clusters n=5\n",
    "\n",
    "Cluster 1: Customers with Medium Income and Medium Spending\n",
    "\n",
    "Cluster 2: Customers with High Income and High Spending\n",
    "\n",
    "Cluster 3: Customers with Low Income and Low Spending\n",
    "\n",
    "Cluster 4: Customers with High Income and Low Spending\n",
    "\n",
    "Cluster 5: Customers with Low Income and High Spending"
   ]
  },
  {
   "cell_type": "code",
   "execution_count": 16,
   "id": "e397381f",
   "metadata": {},
   "outputs": [
    {
     "data": {
      "image/png": "[encoded data removed]",
      "text/plain": [
       "<Figure size 432x288 with 1 Axes>"
      ]
     },
     "metadata": {
      "needs_background": "light"
     },
     "output_type": "display_data"
    }
   ],
   "source": [
    "X = df.iloc[:, [3,4]].values\n",
    "plt.scatter(X[y_means==0, 0], X[y_means==0, 1], s=50, c='purple', label ='Cluster 1')\n",
    "plt.scatter(X[y_means==1, 0], X[y_means==1, 1], s=50, c='orange', label ='Cluster 2')\n",
    "plt.scatter(X[y_means==2, 0], X[y_means==2, 1], s=50, c='red', label ='Cluster 3')\n",
    "plt.scatter(X[y_means==3, 0], X[y_means==3, 1], s=50, c='green', label ='Cluster 4')\n",
    "plt.scatter(X[y_means==4, 0], X[y_means==4, 1], s=50, c='blue', label ='Cluster 5')\n",
    "plt.title('Income Spent Analysis - Hierarchical Clustering')\n",
    "plt.xlabel('Income')\n",
    "plt.ylabel('Spent')\n",
    "plt.show()"
   ]
  },
  {
   "cell_type": "code",
   "execution_count": null,
   "id": "99da69c1",
   "metadata": {},
   "outputs": [],
   "source": []
  }
 ],
 "metadata": {
  "kernelspec": {
   "display_name": "Python 3 (ipykernel)",
   "language": "python",
   "name": "python3"
  },
  "language_info": {
   "codemirror_mode": {
    "name": "ipython",
    "version": 3
   },
   "file_extension": ".py",
   "mimetype": "text/x-python",
   "name": "python",
   "nbconvert_exporter": "python",
   "pygments_lexer": "ipython3",
   "version": "3.9.12"
  }
 },
 "nbformat": 4,
 "nbformat_minor": 5
}
