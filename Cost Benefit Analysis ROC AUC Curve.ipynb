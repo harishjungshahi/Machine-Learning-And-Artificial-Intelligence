{
 "cells": [
  {
   "cell_type": "markdown",
   "id": "59b27895-f896-484e-97db-cc7fc36da319",
   "metadata": {},
   "source": [
    "# Harish Practise: ROC AUC Curve: Cost Benefit Analysis"
   ]
  },
  {
   "cell_type": "code",
   "execution_count": 2,
   "id": "50b93434-e818-48d4-8c8f-029382ee5f1c",
   "metadata": {},
   "outputs": [
    {
     "name": "stderr",
     "output_type": "stream",
     "text": [
      "Matplotlib is building the font cache; this may take a moment.\n"
     ]
    }
   ],
   "source": [
    "import numpy as np\n",
    "import matplotlib.pyplot as plt\n",
    "from sklearn.datasets import make_classification\n",
    "from sklearn.linear_model import LogisticRegression\n",
    "from sklearn.model_selection import train_test_split"
   ]
  },
  {
   "cell_type": "markdown",
   "id": "24ef9aa3-3b96-4bda-977e-eb0beea06186",
   "metadata": {},
   "source": [
    "# We are generating synthetic dataset using make_classification method"
   ]
  },
  {
   "cell_type": "code",
   "execution_count": 3,
   "id": "ffae5e50-6f5c-4b06-ab9d-bbdbc7d0ba16",
   "metadata": {},
   "outputs": [],
   "source": [
    "X, y = make_classification(\n",
    "    n_features = 10,\n",
    "    n_samples=1000,\n",
    "    n_informative=4,\n",
    "    n_redundant=6,\n",
    "    n_repeated=0,\n",
    "    n_classes=2,\n",
    "    random_state=42\n",
    ")   "
   ]
  },
  {
   "cell_type": "markdown",
   "id": "719bc1fd-51d9-4db3-b1f8-3a63c5b7cd43",
   "metadata": {},
   "source": [
    "# Spliting Data into Training and testing set"
   ]
  },
  {
   "cell_type": "code",
   "execution_count": 4,
   "id": "5befb2e9-6051-4553-a17a-d4f80a28598b",
   "metadata": {},
   "outputs": [],
   "source": [
    "X_train,X_test,y_train,y_test = train_test_split(X,y,test_size=0.25,random_state=42)"
   ]
  },
  {
   "cell_type": "markdown",
   "id": "e366a882-2bf7-4c60-beac-e15c47d9b3e3",
   "metadata": {},
   "source": [
    "# Training a Logistic Regression Model"
   ]
  },
  {
   "cell_type": "code",
   "execution_count": 5,
   "id": "d3b04b7d-b390-410f-bbc4-a14b17bfb1ff",
   "metadata": {},
   "outputs": [
    {
     "name": "stdout",
     "output_type": "stream",
     "text": [
      "              precision    recall  f1-score   support\n",
      "\n",
      "           0       0.66      0.69      0.67       122\n",
      "           1       0.69      0.66      0.68       128\n",
      "\n",
      "    accuracy                           0.68       250\n",
      "   macro avg       0.68      0.68      0.68       250\n",
      "weighted avg       0.68      0.68      0.68       250\n",
      "\n"
     ]
    }
   ],
   "source": [
    "from sklearn.metrics import classification_report\n",
    "\n",
    "model = LogisticRegression()\n",
    "model.fit(X_train,y_train)\n",
    "\n",
    "y_pred = model.predict(X_test)\n",
    "report = classification_report(y_test,y_pred)\n",
    "print(report)"
   ]
  },
  {
   "cell_type": "markdown",
   "id": "2d73f5f1-8c42-4ee1-b54d-01fe4a169c6f",
   "metadata": {},
   "source": [
    "Let's assume above is the classification model for pneumonia detection. In this case, a recall of 0.66 for positive class is pretty bad because out of 100 psenumonia patients you are detecting the disease only in 66 and to remaining 34 patients you are saying you don't have a disease. We would like to increase this number even though it comes at the cost of increased false positives (i.e. telling a person that you have pneumonia, when in reality they don't).\n",
    "\n",
    "Reduce the probability threshold to 0.4 (from a default of 0.5) to capture more cases of pneumonia"
   ]
  },
  {
   "cell_type": "markdown",
   "id": "0b8b565b-5a45-4abd-b327-c97d14b4a44a",
   "metadata": {},
   "source": [
    "#### Change the thresold to see how precision, recall changes"
   ]
  },
  {
   "cell_type": "code",
   "execution_count": 7,
   "id": "57ea3ee6-3385-48b4-b4b3-73d1173ae318",
   "metadata": {},
   "outputs": [
    {
     "name": "stdout",
     "output_type": "stream",
     "text": [
      "              precision    recall  f1-score   support\n",
      "\n",
      "           0       0.75      0.57      0.65       122\n",
      "           1       0.67      0.82      0.74       128\n",
      "\n",
      "    accuracy                           0.70       250\n",
      "   macro avg       0.71      0.70      0.69       250\n",
      "weighted avg       0.71      0.70      0.70       250\n",
      "\n"
     ]
    }
   ],
   "source": [
    "probabilities = model.predict_proba(X_test)[:,1]\n",
    "y_pred = (probabilities > 0.4).astype(int)\n",
    "\n",
    "report = classification_report(y_test, y_pred)\n",
    "print(report)"
   ]
  },
  {
   "cell_type": "markdown",
   "id": "df12a6a9-222a-402f-b92c-a2d86424f3d3",
   "metadata": {},
   "source": [
    "As you can see here for class 1, the recall increased to 82% which is good but now we want 90% recall. We will find probability thresold associated with 90% recall using ROC curve."
   ]
  },
  {
   "cell_type": "markdown",
   "id": "76fc04ad-7986-458d-b852-5b0ae0905120",
   "metadata": {},
   "source": [
    "# We will calculate False Positive Rate and True Positive Rate"
   ]
  },
  {
   "cell_type": "code",
   "execution_count": 11,
   "id": "8f9ffbbf-0a68-4311-b074-e6e785b1bc39",
   "metadata": {},
   "outputs": [
    {
     "data": {
      "text/plain": [
       "(array([0.        , 0.        , 0.        , 0.00819672, 0.00819672]),\n",
       " array([0.       , 0.0078125, 0.265625 , 0.265625 , 0.2890625]),\n",
       " array([       inf, 0.97928246, 0.80890214, 0.80840719, 0.80207033]))"
      ]
     },
     "execution_count": 11,
     "metadata": {},
     "output_type": "execute_result"
    }
   ],
   "source": [
    "from sklearn.metrics import roc_curve\n",
    "\n",
    "fpr, tpr, thresholds = roc_curve(y_test, probabilities)\n",
    "\n",
    "fpr[:5], tpr[:5], thresholds[:5]"
   ]
  },
  {
   "cell_type": "code",
   "execution_count": 12,
   "id": "409a400b-4812-4a81-9723-91e4591fe9bb",
   "metadata": {},
   "outputs": [
    {
     "data": {
      "text/plain": [
       "(0.90625, 0.26349585272229664, 0.7049180327868853)"
      ]
     },
     "execution_count": 12,
     "metadata": {},
     "output_type": "execute_result"
    }
   ],
   "source": [
    "desired_recall = 0.9\n",
    "\n",
    "closest_index = np.argmin(abs(tpr - desired_recall))\n",
    "\n",
    "tpr[closest_index], thresholds[closest_index], fpr[closest_index]\n",
    "                        "
   ]
  },
  {
   "cell_type": "markdown",
   "id": "5dc5557f-9770-45ed-b588-bd6e15e7eabc",
   "metadata": {},
   "source": [
    "What this is saying is you need to configure your probability threshold to be 0.26 for a desired_recall value. Also you will have 0.7 false positive rate which is pretty high."
   ]
  },
  {
   "cell_type": "markdown",
   "id": "fc6261d4-e941-4ce5-aad9-f130076e2dd2",
   "metadata": {},
   "source": [
    "# Let see Area Under Curve"
   ]
  },
  {
   "cell_type": "code",
   "execution_count": 13,
   "id": "d080d1a5-39ee-4f16-87d6-25104271e629",
   "metadata": {},
   "outputs": [
    {
     "data": {
      "text/plain": [
       "0.764856557377049"
      ]
     },
     "execution_count": 13,
     "metadata": {},
     "output_type": "execute_result"
    }
   ],
   "source": [
    "from sklearn.metrics import auc\n",
    "\n",
    "area = auc(fpr,tpr)\n",
    "\n",
    "area"
   ]
  },
  {
   "cell_type": "markdown",
   "id": "f1369d94-4538-4ca0-ba97-9dfc90606fe4",
   "metadata": {},
   "source": [
    "# Plt ROC Curve"
   ]
  },
  {
   "cell_type": "code",
   "execution_count": 14,
   "id": "fa797174-29f2-4a44-8bba-e394e7f338a4",
   "metadata": {},
   "outputs": [
    {
     "data": {
      "image/png": "[encoded data removed]",
      "text/plain": [
       "<Figure size 640x480 with 1 Axes>"
      ]
     },
     "metadata": {},
     "output_type": "display_data"
    }
   ],
   "source": [
    "plt.figure()\n",
    "plt.plot(fpr, tpr, color='darkorange', lw=2, label='ROC Curve (area = %0.2f)' % area)\n",
    "plt.plot([0, 1], [0, 1], color='navy', lw=2, linestyle='--')\n",
    "plt.xlim([0.0, 1.0])\n",
    "plt.ylim([0.0, 1.05])\n",
    "plt.xlabel('False Positive Rate')\n",
    "plt.ylabel('True Positive Rate')\n",
    "plt.title('Receiver Operating Characteristic')\n",
    "plt.legend(loc=\"lower right\")\n",
    "plt.show()"
   ]
  },
  {
   "cell_type": "markdown",
   "id": "89ea8db2-35fc-4a46-ac2c-77c348cd9367",
   "metadata": {},
   "source": [
    "# Training XGBOOST MODEL"
   ]
  },
  {
   "cell_type": "code",
   "execution_count": 17,
   "id": "1c9921bd-a870-4c9a-8e32-2fcd6dc07ca9",
   "metadata": {},
   "outputs": [
    {
     "name": "stdout",
     "output_type": "stream",
     "text": [
      "Requirement already satisfied: xgboost in c:\\users\\91829\\anaconda3\\lib\\site-packages (3.0.2)\n",
      "Requirement already satisfied: numpy in c:\\users\\91829\\anaconda3\\lib\\site-packages (from xgboost) (1.26.4)\n",
      "Requirement already satisfied: scipy in c:\\users\\91829\\anaconda3\\lib\\site-packages (from xgboost) (1.13.1)\n"
     ]
    }
   ],
   "source": [
    "!pip install xgboost"
   ]
  },
  {
   "cell_type": "code",
   "execution_count": 18,
   "id": "0a92c4df-d661-4a20-af4f-a7a7f3113ea8",
   "metadata": {},
   "outputs": [
    {
     "name": "stdout",
     "output_type": "stream",
     "text": [
      "              precision    recall  f1-score   support\n",
      "\n",
      "           0       0.89      0.93      0.91       122\n",
      "           1       0.93      0.89      0.91       128\n",
      "\n",
      "    accuracy                           0.91       250\n",
      "   macro avg       0.91      0.91      0.91       250\n",
      "weighted avg       0.91      0.91      0.91       250\n",
      "\n"
     ]
    }
   ],
   "source": [
    "from xgboost import XGBClassifier\n",
    "from sklearn.metrics import classification_report\n",
    "\n",
    "model = XGBClassifier()\n",
    "model.fit(X_train, y_train)\n",
    "\n",
    "y_pred = model.predict(X_test)\n",
    "report = classification_report(y_test, y_pred)\n",
    "print(report)"
   ]
  },
  {
   "cell_type": "markdown",
   "id": "bb32a93e-e542-4df8-9e10-fa9f9619bd75",
   "metadata": {},
   "source": [
    "# Out of the box, it gives us 89% recall which is pretty good but now we became greedy and want 92% recall."
   ]
  },
  {
   "cell_type": "code",
   "execution_count": 20,
   "id": "0be3404b-f280-444f-ad04-dc663346a630",
   "metadata": {},
   "outputs": [
    {
     "data": {
      "text/plain": [
       "(array([0.        , 0.        , 0.        , 0.00819672, 0.00819672]),\n",
       " array([0.       , 0.0078125, 0.09375  , 0.09375  , 0.203125 ]),\n",
       " array([       inf, 0.99996376, 0.99989676, 0.999892  , 0.9997204 ],\n",
       "       dtype=float32))"
      ]
     },
     "execution_count": 20,
     "metadata": {},
     "output_type": "execute_result"
    }
   ],
   "source": [
    "probabilities_xgb = model.predict_proba(X_test)[:,1]\n",
    "fpr_xgb, tpr_xgb, thresholds_xgb = roc_curve(y_test, probabilities_xgb)\n",
    "\n",
    "fpr_xgb[:5], tpr_xgb[:5],thresholds_xgb[:5]"
   ]
  },
  {
   "cell_type": "code",
   "execution_count": 21,
   "id": "748deee8-619a-42ab-a353-31e1601b3d05",
   "metadata": {},
   "outputs": [
    {
     "name": "stdout",
     "output_type": "stream",
     "text": [
      "0.946016905737705\n"
     ]
    }
   ],
   "source": [
    "area2 = auc(fpr_xgb,tpr_xgb)\n",
    "print(area2)"
   ]
  },
  {
   "cell_type": "markdown",
   "id": "ea291b24-e460-4d74-86d0-9f8b46a71784",
   "metadata": {},
   "source": [
    "### Plot ROC Curve for Logistic Regression and XGBoost Side by Side"
   ]
  },
  {
   "cell_type": "code",
   "execution_count": 23,
   "id": "72de4e92-e603-4076-acf8-5125f6286f24",
   "metadata": {},
   "outputs": [
    {
     "data": {
      "image/png": "[encoded data removed]",
      "text/plain": [
       "<Figure size 640x480 with 1 Axes>"
      ]
     },
     "metadata": {},
     "output_type": "display_data"
    }
   ],
   "source": [
    "plt.figure()\n",
    "\n",
    "plt.plot(fpr, tpr, color='darkorange', lw=2, label='ROC - Logistic Regression (area = %0.2f)' % area)\n",
    "plt.plot(fpr_xgb, tpr_xgb, color='green', lw=2, label='ROC - XGBoost (area = %0.2f)' % area2)\n",
    "\n",
    "plt.plot([0, 1], [0, 1], color='navy', lw=2, linestyle='--')\n",
    "plt.xlim([0.0, 1.0])\n",
    "plt.ylim([0.0, 1.05])\n",
    "plt.xlabel('False Positive Rate')\n",
    "plt.ylabel('True Positive Rate')\n",
    "plt.title('Receiver Operating Characteristic')\n",
    "plt.legend(loc=\"lower right\")\n",
    "plt.show()"
   ]
  },
  {
   "cell_type": "markdown",
   "id": "d1537049-b920-47b7-a1ac-779ff8e0c8b3",
   "metadata": {},
   "source": [
    "# In the chart above, you can see XGBoost is much better model compared to logistic regression"
   ]
  },
  {
   "cell_type": "code",
   "execution_count": 24,
   "id": "27cd8d8c-66f2-4197-89e6-7c0b137600e6",
   "metadata": {},
   "outputs": [
    {
     "data": {
      "text/plain": [
       "(0.9140625, 0.30599597, 0.10655737704918032)"
      ]
     },
     "execution_count": 24,
     "metadata": {},
     "output_type": "execute_result"
    }
   ],
   "source": [
    "desired_recall = 0.92\n",
    "\n",
    "closest_index = np.argmin(abs(tpr_xgb - desired_recall))\n",
    "\n",
    "tpr_xgb[closest_index], thresholds_xgb[closest_index], fpr_xgb[closest_index]"
   ]
  },
  {
   "cell_type": "markdown",
   "id": "093929f2-2da7-46e1-99bc-6c39a4bc264f",
   "metadata": {},
   "source": [
    "Threshold associated with 92% recall is 0.3, we will incorporate this in our inference code and deploy the model. Note that with this we will get a false positive rate of around 10% (0.106)"
   ]
  },
  {
   "cell_type": "code",
   "execution_count": null,
   "id": "673b002d-a306-4c00-b3b2-e590cef82531",
   "metadata": {},
   "outputs": [],
   "source": []
  }
 ],
 "metadata": {
  "kernelspec": {
   "display_name": "Python 3 (ipykernel)",
   "language": "python",
   "name": "python3"
  },
  "language_info": {
   "codemirror_mode": {
    "name": "ipython",
    "version": 3
   },
   "file_extension": ".py",
   "mimetype": "text/x-python",
   "name": "python",
   "nbconvert_exporter": "python",
   "pygments_lexer": "ipython3",
   "version": "3.12.7"
  }
 },
 "nbformat": 4,
 "nbformat_minor": 5
}
