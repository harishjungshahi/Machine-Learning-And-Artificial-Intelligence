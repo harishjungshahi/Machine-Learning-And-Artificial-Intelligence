{
 "cells": [
  {
   "cell_type": "markdown",
   "id": "41893379",
   "metadata": {},
   "source": [
    "# Harish Practise: Gradient Boosting Regression"
   ]
  },
  {
   "cell_type": "markdown",
   "id": "d9fd3ae8",
   "metadata": {},
   "source": [
    "# Importing Libraries"
   ]
  },
  {
   "cell_type": "code",
   "execution_count": 1,
   "id": "df8a7c71",
   "metadata": {},
   "outputs": [],
   "source": [
    "import pandas as pd\n",
    "from matplotlib import pyplot as plt"
   ]
  },
  {
   "cell_type": "markdown",
   "id": "c6e739df",
   "metadata": {},
   "source": [
    "# Load Datasets"
   ]
  },
  {
   "cell_type": "code",
   "execution_count": 2,
   "id": "5e27c2c7",
   "metadata": {},
   "outputs": [
    {
     "data": {
      "text/html": [
       "<div>\n",
       "<style scoped>\n",
       "    .dataframe tbody tr th:only-of-type {\n",
       "        vertical-align: middle;\n",
       "    }\n",
       "\n",
       "    .dataframe tbody tr th {\n",
       "        vertical-align: top;\n",
       "    }\n",
       "\n",
       "    .dataframe thead th {\n",
       "        text-align: right;\n",
       "    }\n",
       "</style>\n",
       "<table border=\"1\" class=\"dataframe\">\n",
       "  <thead>\n",
       "    <tr style=\"text-align: right;\">\n",
       "      <th></th>\n",
       "      <th>Ad Spend ($)</th>\n",
       "      <th>Season</th>\n",
       "      <th>Revenue ($)</th>\n",
       "    </tr>\n",
       "  </thead>\n",
       "  <tbody>\n",
       "    <tr>\n",
       "      <th>0</th>\n",
       "      <td>463</td>\n",
       "      <td>Monsoon</td>\n",
       "      <td>440</td>\n",
       "    </tr>\n",
       "    <tr>\n",
       "      <th>1</th>\n",
       "      <td>158</td>\n",
       "      <td>Winter</td>\n",
       "      <td>297</td>\n",
       "    </tr>\n",
       "    <tr>\n",
       "      <th>2</th>\n",
       "      <td>328</td>\n",
       "      <td>Monsoon</td>\n",
       "      <td>214</td>\n",
       "    </tr>\n",
       "  </tbody>\n",
       "</table>\n",
       "</div>"
      ],
      "text/plain": [
       "   Ad Spend ($)   Season  Revenue ($)\n",
       "0           463  Monsoon          440\n",
       "1           158   Winter          297\n",
       "2           328  Monsoon          214"
      ]
     },
     "execution_count": 2,
     "metadata": {},
     "output_type": "execute_result"
    }
   ],
   "source": [
    "df = pd.read_csv(\"ad_spend.csv\")\n",
    "df.head(3)"
   ]
  },
  {
   "cell_type": "markdown",
   "id": "aeb659b0",
   "metadata": {},
   "source": [
    "# Exploratory Data Analysis: EDA"
   ]
  },
  {
   "cell_type": "code",
   "execution_count": 3,
   "id": "b9310f44",
   "metadata": {},
   "outputs": [
    {
     "data": {
      "text/plain": [
       "(200, 3)"
      ]
     },
     "execution_count": 3,
     "metadata": {},
     "output_type": "execute_result"
    }
   ],
   "source": [
    "df.shape"
   ]
  },
  {
   "cell_type": "code",
   "execution_count": 4,
   "id": "94f898f0",
   "metadata": {},
   "outputs": [
    {
     "data": {
      "text/html": [
       "<div>\n",
       "<style scoped>\n",
       "    .dataframe tbody tr th:only-of-type {\n",
       "        vertical-align: middle;\n",
       "    }\n",
       "\n",
       "    .dataframe tbody tr th {\n",
       "        vertical-align: top;\n",
       "    }\n",
       "\n",
       "    .dataframe thead th {\n",
       "        text-align: right;\n",
       "    }\n",
       "</style>\n",
       "<table border=\"1\" class=\"dataframe\">\n",
       "  <thead>\n",
       "    <tr style=\"text-align: right;\">\n",
       "      <th></th>\n",
       "      <th>Ad Spend ($)</th>\n",
       "      <th>Revenue ($)</th>\n",
       "    </tr>\n",
       "    <tr>\n",
       "      <th>Season</th>\n",
       "      <th></th>\n",
       "      <th></th>\n",
       "    </tr>\n",
       "  </thead>\n",
       "  <tbody>\n",
       "    <tr>\n",
       "      <th>Monsoon</th>\n",
       "      <td>517.643836</td>\n",
       "      <td>423.150685</td>\n",
       "    </tr>\n",
       "    <tr>\n",
       "      <th>Summer</th>\n",
       "      <td>573.836066</td>\n",
       "      <td>689.360656</td>\n",
       "    </tr>\n",
       "    <tr>\n",
       "      <th>Winter</th>\n",
       "      <td>552.560606</td>\n",
       "      <td>826.530303</td>\n",
       "    </tr>\n",
       "  </tbody>\n",
       "</table>\n",
       "</div>"
      ],
      "text/plain": [
       "         Ad Spend ($)  Revenue ($)\n",
       "Season                            \n",
       "Monsoon    517.643836   423.150685\n",
       "Summer     573.836066   689.360656\n",
       "Winter     552.560606   826.530303"
      ]
     },
     "execution_count": 4,
     "metadata": {},
     "output_type": "execute_result"
    }
   ],
   "source": [
    "g = df.groupby('Season')[['Ad Spend ($)','Revenue ($)']].mean()\n",
    "g"
   ]
  },
  {
   "cell_type": "code",
   "execution_count": 5,
   "id": "ef4bd9b8",
   "metadata": {},
   "outputs": [
    {
     "data": {
      "image/png": "[encoded data removed]",
      "text/plain": [
       "<Figure size 432x288 with 1 Axes>"
      ]
     },
     "metadata": {
      "needs_background": "light"
     },
     "output_type": "display_data"
    }
   ],
   "source": [
    "ax = g.plot(kind='bar')\n",
    "ax.set_title('Average Ad Spend and Revenue per Season')\n",
    "ax.set_xlabel('Season')\n",
    "ax.set_ylabel('Values')\n",
    "\n",
    "plt.xticks(rotation=45)  # Rotate x-axis labels for better readability\n",
    "plt.show()"
   ]
  },
  {
   "cell_type": "code",
   "execution_count": 6,
   "id": "0083504e",
   "metadata": {},
   "outputs": [
    {
     "data": {
      "image/png": "[encoded data removed]",
      "text/plain": [
       "<Figure size 432x288 with 1 Axes>"
      ]
     },
     "metadata": {
      "needs_background": "light"
     },
     "output_type": "display_data"
    }
   ],
   "source": [
    "for season, subdf in df.groupby('Season'):\n",
    "    plt.scatter(subdf['Ad Spend ($)'], subdf['Revenue ($)'],label=season, alpha=0.5)\n",
    "    \n",
    "plt.xlabel('Ad Spend ($)')\n",
    "plt.xlabel('Revenue ($)')\n",
    "plt.legend()\n",
    "plt.show()"
   ]
  },
  {
   "cell_type": "markdown",
   "id": "60994baa",
   "metadata": {},
   "source": [
    "# Feature Engineering: Encode the Categorical Data Using One Hot Encoding"
   ]
  },
  {
   "cell_type": "code",
   "execution_count": 7,
   "id": "40258fdd",
   "metadata": {},
   "outputs": [
    {
     "data": {
      "text/html": [
       "<div>\n",
       "<style scoped>\n",
       "    .dataframe tbody tr th:only-of-type {\n",
       "        vertical-align: middle;\n",
       "    }\n",
       "\n",
       "    .dataframe tbody tr th {\n",
       "        vertical-align: top;\n",
       "    }\n",
       "\n",
       "    .dataframe thead th {\n",
       "        text-align: right;\n",
       "    }\n",
       "</style>\n",
       "<table border=\"1\" class=\"dataframe\">\n",
       "  <thead>\n",
       "    <tr style=\"text-align: right;\">\n",
       "      <th></th>\n",
       "      <th>Ad Spend ($)</th>\n",
       "      <th>Revenue ($)</th>\n",
       "      <th>Season_Summer</th>\n",
       "      <th>Season_Winter</th>\n",
       "    </tr>\n",
       "  </thead>\n",
       "  <tbody>\n",
       "    <tr>\n",
       "      <th>0</th>\n",
       "      <td>463</td>\n",
       "      <td>440</td>\n",
       "      <td>0</td>\n",
       "      <td>0</td>\n",
       "    </tr>\n",
       "    <tr>\n",
       "      <th>1</th>\n",
       "      <td>158</td>\n",
       "      <td>297</td>\n",
       "      <td>0</td>\n",
       "      <td>1</td>\n",
       "    </tr>\n",
       "    <tr>\n",
       "      <th>2</th>\n",
       "      <td>328</td>\n",
       "      <td>214</td>\n",
       "      <td>0</td>\n",
       "      <td>0</td>\n",
       "    </tr>\n",
       "    <tr>\n",
       "      <th>3</th>\n",
       "      <td>322</td>\n",
       "      <td>48</td>\n",
       "      <td>0</td>\n",
       "      <td>0</td>\n",
       "    </tr>\n",
       "    <tr>\n",
       "      <th>4</th>\n",
       "      <td>726</td>\n",
       "      <td>1048</td>\n",
       "      <td>0</td>\n",
       "      <td>1</td>\n",
       "    </tr>\n",
       "    <tr>\n",
       "      <th>...</th>\n",
       "      <td>...</td>\n",
       "      <td>...</td>\n",
       "      <td>...</td>\n",
       "      <td>...</td>\n",
       "    </tr>\n",
       "    <tr>\n",
       "      <th>195</th>\n",
       "      <td>407</td>\n",
       "      <td>609</td>\n",
       "      <td>1</td>\n",
       "      <td>0</td>\n",
       "    </tr>\n",
       "    <tr>\n",
       "      <th>196</th>\n",
       "      <td>182</td>\n",
       "      <td>183</td>\n",
       "      <td>0</td>\n",
       "      <td>0</td>\n",
       "    </tr>\n",
       "    <tr>\n",
       "      <th>197</th>\n",
       "      <td>184</td>\n",
       "      <td>10</td>\n",
       "      <td>0</td>\n",
       "      <td>0</td>\n",
       "    </tr>\n",
       "    <tr>\n",
       "      <th>198</th>\n",
       "      <td>380</td>\n",
       "      <td>504</td>\n",
       "      <td>1</td>\n",
       "      <td>0</td>\n",
       "    </tr>\n",
       "    <tr>\n",
       "      <th>199</th>\n",
       "      <td>981</td>\n",
       "      <td>1266</td>\n",
       "      <td>0</td>\n",
       "      <td>1</td>\n",
       "    </tr>\n",
       "  </tbody>\n",
       "</table>\n",
       "<p>200 rows × 4 columns</p>\n",
       "</div>"
      ],
      "text/plain": [
       "     Ad Spend ($)  Revenue ($)  Season_Summer  Season_Winter\n",
       "0             463          440              0              0\n",
       "1             158          297              0              1\n",
       "2             328          214              0              0\n",
       "3             322           48              0              0\n",
       "4             726         1048              0              1\n",
       "..            ...          ...            ...            ...\n",
       "195           407          609              1              0\n",
       "196           182          183              0              0\n",
       "197           184           10              0              0\n",
       "198           380          504              1              0\n",
       "199           981         1266              0              1\n",
       "\n",
       "[200 rows x 4 columns]"
      ]
     },
     "execution_count": 7,
     "metadata": {},
     "output_type": "execute_result"
    }
   ],
   "source": [
    "df_encoded = pd.get_dummies(df, columns=['Season'], drop_first=True)\n",
    "df_encoded"
   ]
  },
  {
   "cell_type": "markdown",
   "id": "7b6945fc",
   "metadata": {},
   "source": [
    "# Train Test Split"
   ]
  },
  {
   "cell_type": "code",
   "execution_count": 9,
   "id": "8d15f08b",
   "metadata": {},
   "outputs": [],
   "source": [
    "from sklearn.model_selection import train_test_split\n",
    "\n",
    "X = df_encoded[['Ad Spend ($)','Season_Summer','Season_Winter']]\n",
    "y = df_encoded['Revenue ($)']\n",
    "\n",
    "X_train, X_test, y_train, y_test = train_test_split(X, y, test_size=0.25, random_state=10)"
   ]
  },
  {
   "cell_type": "markdown",
   "id": "3a2d6885",
   "metadata": {},
   "source": [
    "# Train a Linear Regression Model"
   ]
  },
  {
   "cell_type": "code",
   "execution_count": 11,
   "id": "e3a0e335",
   "metadata": {},
   "outputs": [
    {
     "data": {
      "text/plain": [
       "0.888209700047729"
      ]
     },
     "execution_count": 11,
     "metadata": {},
     "output_type": "execute_result"
    }
   ],
   "source": [
    "from sklearn.linear_model import LinearRegression\n",
    "\n",
    "model = LinearRegression()\n",
    "model.fit(X_train,y_train)\n",
    "model.score(X_test,y_test)"
   ]
  },
  {
   "cell_type": "markdown",
   "id": "c73ca0c1",
   "metadata": {},
   "source": [
    "# Train a Decision Tree Regressor"
   ]
  },
  {
   "cell_type": "code",
   "execution_count": 12,
   "id": "10cfd915",
   "metadata": {},
   "outputs": [
    {
     "data": {
      "text/plain": [
       "0.8972778553142061"
      ]
     },
     "execution_count": 12,
     "metadata": {},
     "output_type": "execute_result"
    }
   ],
   "source": [
    "from sklearn.tree import DecisionTreeRegressor\n",
    "\n",
    "model = DecisionTreeRegressor()\n",
    "model.fit(X_train,y_train)\n",
    "model.score(X_test,y_test)"
   ]
  },
  {
   "cell_type": "markdown",
   "id": "00ca0d2f",
   "metadata": {},
   "source": [
    "# Train a Gradient Boosting Model"
   ]
  },
  {
   "cell_type": "code",
   "execution_count": 13,
   "id": "136d77ab",
   "metadata": {},
   "outputs": [
    {
     "data": {
      "text/plain": [
       "0.9149899654766234"
      ]
     },
     "execution_count": 13,
     "metadata": {},
     "output_type": "execute_result"
    }
   ],
   "source": [
    "from sklearn.ensemble import GradientBoostingRegressor\n",
    "\n",
    "model = GradientBoostingRegressor()\n",
    "model.fit(X_train,y_train)\n",
    "model.score(X_test,y_test)"
   ]
  },
  {
   "cell_type": "markdown",
   "id": "19aa45c0",
   "metadata": {},
   "source": [
    "The score of Linear Regression, Decision Tree and Gradient Boosting Model is almost the same."
   ]
  },
  {
   "cell_type": "code",
   "execution_count": 15,
   "id": "6765e8ae",
   "metadata": {},
   "outputs": [
    {
     "data": {
      "text/plain": [
       "14075.189625267229"
      ]
     },
     "execution_count": 15,
     "metadata": {},
     "output_type": "execute_result"
    }
   ],
   "source": [
    "from sklearn.metrics import mean_squared_error\n",
    "\n",
    "y_pred = model.predict(X_test)\n",
    "\n",
    "mean_squared_error(y_test, y_pred)"
   ]
  },
  {
   "cell_type": "code",
   "execution_count": 16,
   "id": "f666eec3",
   "metadata": {},
   "outputs": [
    {
     "data": {
      "text/html": [
       "<div>\n",
       "<style scoped>\n",
       "    .dataframe tbody tr th:only-of-type {\n",
       "        vertical-align: middle;\n",
       "    }\n",
       "\n",
       "    .dataframe tbody tr th {\n",
       "        vertical-align: top;\n",
       "    }\n",
       "\n",
       "    .dataframe thead th {\n",
       "        text-align: right;\n",
       "    }\n",
       "</style>\n",
       "<table border=\"1\" class=\"dataframe\">\n",
       "  <thead>\n",
       "    <tr style=\"text-align: right;\">\n",
       "      <th></th>\n",
       "      <th>Actual</th>\n",
       "      <th>Predicted</th>\n",
       "    </tr>\n",
       "  </thead>\n",
       "  <tbody>\n",
       "    <tr>\n",
       "      <th>59</th>\n",
       "      <td>605</td>\n",
       "      <td>677.144222</td>\n",
       "    </tr>\n",
       "    <tr>\n",
       "      <th>5</th>\n",
       "      <td>1125</td>\n",
       "      <td>1073.575312</td>\n",
       "    </tr>\n",
       "    <tr>\n",
       "      <th>20</th>\n",
       "      <td>699</td>\n",
       "      <td>626.698237</td>\n",
       "    </tr>\n",
       "  </tbody>\n",
       "</table>\n",
       "</div>"
      ],
      "text/plain": [
       "    Actual    Predicted\n",
       "59     605   677.144222\n",
       "5     1125  1073.575312\n",
       "20     699   626.698237"
      ]
     },
     "execution_count": 16,
     "metadata": {},
     "output_type": "execute_result"
    }
   ],
   "source": [
    "df_eval = pd.DataFrame({'Actual': y_test, 'Predicted': y_pred})\n",
    "df_eval.head(3)"
   ]
  },
  {
   "cell_type": "code",
   "execution_count": 17,
   "id": "76bac838",
   "metadata": {},
   "outputs": [
    {
     "data": {
      "text/html": [
       "<div>\n",
       "<style scoped>\n",
       "    .dataframe tbody tr th:only-of-type {\n",
       "        vertical-align: middle;\n",
       "    }\n",
       "\n",
       "    .dataframe tbody tr th {\n",
       "        vertical-align: top;\n",
       "    }\n",
       "\n",
       "    .dataframe thead th {\n",
       "        text-align: right;\n",
       "    }\n",
       "</style>\n",
       "<table border=\"1\" class=\"dataframe\">\n",
       "  <thead>\n",
       "    <tr style=\"text-align: right;\">\n",
       "      <th></th>\n",
       "      <th>Actual</th>\n",
       "      <th>Predicted</th>\n",
       "      <th>Diff %</th>\n",
       "    </tr>\n",
       "  </thead>\n",
       "  <tbody>\n",
       "    <tr>\n",
       "      <th>59</th>\n",
       "      <td>605</td>\n",
       "      <td>677.144222</td>\n",
       "      <td>11.924665</td>\n",
       "    </tr>\n",
       "    <tr>\n",
       "      <th>5</th>\n",
       "      <td>1125</td>\n",
       "      <td>1073.575312</td>\n",
       "      <td>4.571083</td>\n",
       "    </tr>\n",
       "    <tr>\n",
       "      <th>20</th>\n",
       "      <td>699</td>\n",
       "      <td>626.698237</td>\n",
       "      <td>10.343600</td>\n",
       "    </tr>\n",
       "    <tr>\n",
       "      <th>198</th>\n",
       "      <td>504</td>\n",
       "      <td>418.202801</td>\n",
       "      <td>17.023254</td>\n",
       "    </tr>\n",
       "    <tr>\n",
       "      <th>52</th>\n",
       "      <td>1310</td>\n",
       "      <td>1134.088133</td>\n",
       "      <td>13.428387</td>\n",
       "    </tr>\n",
       "    <tr>\n",
       "      <th>19</th>\n",
       "      <td>320</td>\n",
       "      <td>170.512121</td>\n",
       "      <td>46.714962</td>\n",
       "    </tr>\n",
       "    <tr>\n",
       "      <th>162</th>\n",
       "      <td>944</td>\n",
       "      <td>1016.629203</td>\n",
       "      <td>7.693771</td>\n",
       "    </tr>\n",
       "    <tr>\n",
       "      <th>55</th>\n",
       "      <td>581</td>\n",
       "      <td>747.372975</td>\n",
       "      <td>28.635624</td>\n",
       "    </tr>\n",
       "    <tr>\n",
       "      <th>69</th>\n",
       "      <td>1446</td>\n",
       "      <td>1419.638973</td>\n",
       "      <td>1.823031</td>\n",
       "    </tr>\n",
       "    <tr>\n",
       "      <th>2</th>\n",
       "      <td>214</td>\n",
       "      <td>344.868149</td>\n",
       "      <td>61.153341</td>\n",
       "    </tr>\n",
       "    <tr>\n",
       "      <th>98</th>\n",
       "      <td>888</td>\n",
       "      <td>702.768754</td>\n",
       "      <td>20.859375</td>\n",
       "    </tr>\n",
       "    <tr>\n",
       "      <th>10</th>\n",
       "      <td>432</td>\n",
       "      <td>474.046155</td>\n",
       "      <td>9.732906</td>\n",
       "    </tr>\n",
       "    <tr>\n",
       "      <th>75</th>\n",
       "      <td>1312</td>\n",
       "      <td>1134.088133</td>\n",
       "      <td>13.560356</td>\n",
       "    </tr>\n",
       "    <tr>\n",
       "      <th>142</th>\n",
       "      <td>314</td>\n",
       "      <td>257.015860</td>\n",
       "      <td>18.147815</td>\n",
       "    </tr>\n",
       "    <tr>\n",
       "      <th>124</th>\n",
       "      <td>217</td>\n",
       "      <td>244.224425</td>\n",
       "      <td>12.545818</td>\n",
       "    </tr>\n",
       "    <tr>\n",
       "      <th>63</th>\n",
       "      <td>1241</td>\n",
       "      <td>986.137863</td>\n",
       "      <td>20.536836</td>\n",
       "    </tr>\n",
       "    <tr>\n",
       "      <th>109</th>\n",
       "      <td>776</td>\n",
       "      <td>697.574894</td>\n",
       "      <td>10.106328</td>\n",
       "    </tr>\n",
       "    <tr>\n",
       "      <th>78</th>\n",
       "      <td>277</td>\n",
       "      <td>473.922626</td>\n",
       "      <td>71.091201</td>\n",
       "    </tr>\n",
       "    <tr>\n",
       "      <th>111</th>\n",
       "      <td>1207</td>\n",
       "      <td>1131.986671</td>\n",
       "      <td>6.214857</td>\n",
       "    </tr>\n",
       "    <tr>\n",
       "      <th>185</th>\n",
       "      <td>1607</td>\n",
       "      <td>1415.212957</td>\n",
       "      <td>11.934477</td>\n",
       "    </tr>\n",
       "    <tr>\n",
       "      <th>154</th>\n",
       "      <td>234</td>\n",
       "      <td>242.169751</td>\n",
       "      <td>3.491346</td>\n",
       "    </tr>\n",
       "    <tr>\n",
       "      <th>130</th>\n",
       "      <td>540</td>\n",
       "      <td>714.153428</td>\n",
       "      <td>32.250635</td>\n",
       "    </tr>\n",
       "    <tr>\n",
       "      <th>61</th>\n",
       "      <td>683</td>\n",
       "      <td>656.419020</td>\n",
       "      <td>3.891798</td>\n",
       "    </tr>\n",
       "    <tr>\n",
       "      <th>87</th>\n",
       "      <td>392</td>\n",
       "      <td>665.748609</td>\n",
       "      <td>69.833829</td>\n",
       "    </tr>\n",
       "    <tr>\n",
       "      <th>102</th>\n",
       "      <td>742</td>\n",
       "      <td>871.440432</td>\n",
       "      <td>17.444802</td>\n",
       "    </tr>\n",
       "    <tr>\n",
       "      <th>121</th>\n",
       "      <td>107</td>\n",
       "      <td>60.264285</td>\n",
       "      <td>43.678238</td>\n",
       "    </tr>\n",
       "    <tr>\n",
       "      <th>136</th>\n",
       "      <td>195</td>\n",
       "      <td>170.512121</td>\n",
       "      <td>12.557887</td>\n",
       "    </tr>\n",
       "    <tr>\n",
       "      <th>1</th>\n",
       "      <td>297</td>\n",
       "      <td>208.208658</td>\n",
       "      <td>29.896075</td>\n",
       "    </tr>\n",
       "    <tr>\n",
       "      <th>47</th>\n",
       "      <td>403</td>\n",
       "      <td>529.830699</td>\n",
       "      <td>31.471637</td>\n",
       "    </tr>\n",
       "    <tr>\n",
       "      <th>172</th>\n",
       "      <td>531</td>\n",
       "      <td>474.046155</td>\n",
       "      <td>10.725771</td>\n",
       "    </tr>\n",
       "    <tr>\n",
       "      <th>159</th>\n",
       "      <td>411</td>\n",
       "      <td>417.269822</td>\n",
       "      <td>1.525504</td>\n",
       "    </tr>\n",
       "    <tr>\n",
       "      <th>39</th>\n",
       "      <td>315</td>\n",
       "      <td>388.367711</td>\n",
       "      <td>23.291337</td>\n",
       "    </tr>\n",
       "    <tr>\n",
       "      <th>76</th>\n",
       "      <td>259</td>\n",
       "      <td>336.935763</td>\n",
       "      <td>30.091028</td>\n",
       "    </tr>\n",
       "    <tr>\n",
       "      <th>91</th>\n",
       "      <td>1456</td>\n",
       "      <td>1435.607820</td>\n",
       "      <td>1.400562</td>\n",
       "    </tr>\n",
       "    <tr>\n",
       "      <th>35</th>\n",
       "      <td>990</td>\n",
       "      <td>955.123527</td>\n",
       "      <td>3.522876</td>\n",
       "    </tr>\n",
       "    <tr>\n",
       "      <th>178</th>\n",
       "      <td>1084</td>\n",
       "      <td>1044.947595</td>\n",
       "      <td>3.602620</td>\n",
       "    </tr>\n",
       "    <tr>\n",
       "      <th>127</th>\n",
       "      <td>497</td>\n",
       "      <td>626.863372</td>\n",
       "      <td>26.129451</td>\n",
       "    </tr>\n",
       "    <tr>\n",
       "      <th>169</th>\n",
       "      <td>981</td>\n",
       "      <td>995.555872</td>\n",
       "      <td>1.483779</td>\n",
       "    </tr>\n",
       "    <tr>\n",
       "      <th>46</th>\n",
       "      <td>834</td>\n",
       "      <td>972.883013</td>\n",
       "      <td>16.652639</td>\n",
       "    </tr>\n",
       "    <tr>\n",
       "      <th>174</th>\n",
       "      <td>375</td>\n",
       "      <td>344.868149</td>\n",
       "      <td>8.035160</td>\n",
       "    </tr>\n",
       "    <tr>\n",
       "      <th>190</th>\n",
       "      <td>1116</td>\n",
       "      <td>1008.537432</td>\n",
       "      <td>9.629262</td>\n",
       "    </tr>\n",
       "    <tr>\n",
       "      <th>7</th>\n",
       "      <td>1273</td>\n",
       "      <td>1134.088133</td>\n",
       "      <td>10.912166</td>\n",
       "    </tr>\n",
       "    <tr>\n",
       "      <th>26</th>\n",
       "      <td>1263</td>\n",
       "      <td>1188.183871</td>\n",
       "      <td>5.923684</td>\n",
       "    </tr>\n",
       "    <tr>\n",
       "      <th>138</th>\n",
       "      <td>610</td>\n",
       "      <td>572.648300</td>\n",
       "      <td>6.123229</td>\n",
       "    </tr>\n",
       "    <tr>\n",
       "      <th>58</th>\n",
       "      <td>429</td>\n",
       "      <td>691.480570</td>\n",
       "      <td>61.184282</td>\n",
       "    </tr>\n",
       "    <tr>\n",
       "      <th>72</th>\n",
       "      <td>458</td>\n",
       "      <td>367.632378</td>\n",
       "      <td>19.730922</td>\n",
       "    </tr>\n",
       "    <tr>\n",
       "      <th>103</th>\n",
       "      <td>642</td>\n",
       "      <td>666.502013</td>\n",
       "      <td>3.816513</td>\n",
       "    </tr>\n",
       "    <tr>\n",
       "      <th>199</th>\n",
       "      <td>1266</td>\n",
       "      <td>1440.236478</td>\n",
       "      <td>13.762755</td>\n",
       "    </tr>\n",
       "    <tr>\n",
       "      <th>56</th>\n",
       "      <td>183</td>\n",
       "      <td>250.182488</td>\n",
       "      <td>36.711742</td>\n",
       "    </tr>\n",
       "    <tr>\n",
       "      <th>116</th>\n",
       "      <td>715</td>\n",
       "      <td>702.768754</td>\n",
       "      <td>1.710664</td>\n",
       "    </tr>\n",
       "  </tbody>\n",
       "</table>\n",
       "</div>"
      ],
      "text/plain": [
       "     Actual    Predicted     Diff %\n",
       "59      605   677.144222  11.924665\n",
       "5      1125  1073.575312   4.571083\n",
       "20      699   626.698237  10.343600\n",
       "198     504   418.202801  17.023254\n",
       "52     1310  1134.088133  13.428387\n",
       "19      320   170.512121  46.714962\n",
       "162     944  1016.629203   7.693771\n",
       "55      581   747.372975  28.635624\n",
       "69     1446  1419.638973   1.823031\n",
       "2       214   344.868149  61.153341\n",
       "98      888   702.768754  20.859375\n",
       "10      432   474.046155   9.732906\n",
       "75     1312  1134.088133  13.560356\n",
       "142     314   257.015860  18.147815\n",
       "124     217   244.224425  12.545818\n",
       "63     1241   986.137863  20.536836\n",
       "109     776   697.574894  10.106328\n",
       "78      277   473.922626  71.091201\n",
       "111    1207  1131.986671   6.214857\n",
       "185    1607  1415.212957  11.934477\n",
       "154     234   242.169751   3.491346\n",
       "130     540   714.153428  32.250635\n",
       "61      683   656.419020   3.891798\n",
       "87      392   665.748609  69.833829\n",
       "102     742   871.440432  17.444802\n",
       "121     107    60.264285  43.678238\n",
       "136     195   170.512121  12.557887\n",
       "1       297   208.208658  29.896075\n",
       "47      403   529.830699  31.471637\n",
       "172     531   474.046155  10.725771\n",
       "159     411   417.269822   1.525504\n",
       "39      315   388.367711  23.291337\n",
       "76      259   336.935763  30.091028\n",
       "91     1456  1435.607820   1.400562\n",
       "35      990   955.123527   3.522876\n",
       "178    1084  1044.947595   3.602620\n",
       "127     497   626.863372  26.129451\n",
       "169     981   995.555872   1.483779\n",
       "46      834   972.883013  16.652639\n",
       "174     375   344.868149   8.035160\n",
       "190    1116  1008.537432   9.629262\n",
       "7      1273  1134.088133  10.912166\n",
       "26     1263  1188.183871   5.923684\n",
       "138     610   572.648300   6.123229\n",
       "58      429   691.480570  61.184282\n",
       "72      458   367.632378  19.730922\n",
       "103     642   666.502013   3.816513\n",
       "199    1266  1440.236478  13.762755\n",
       "56      183   250.182488  36.711742\n",
       "116     715   702.768754   1.710664"
      ]
     },
     "execution_count": 17,
     "metadata": {},
     "output_type": "execute_result"
    }
   ],
   "source": [
    "df_eval['Diff %'] = abs((df_eval['Predicted'] - df_eval['Actual'])*100/df_eval['Actual'])\n",
    "df_eval"
   ]
  },
  {
   "cell_type": "code",
   "execution_count": 18,
   "id": "7710018e",
   "metadata": {},
   "outputs": [
    {
     "data": {
      "text/plain": [
       "25.41992259667572"
      ]
     },
     "execution_count": 18,
     "metadata": {},
     "output_type": "execute_result"
    }
   ],
   "source": [
    "df_eval['Diff %'].quantile(0.75)"
   ]
  },
  {
   "cell_type": "code",
   "execution_count": null,
   "id": "004e94f9",
   "metadata": {},
   "outputs": [],
   "source": []
  }
 ],
 "metadata": {
  "kernelspec": {
   "display_name": "Python 3 (ipykernel)",
   "language": "python",
   "name": "python3"
  },
  "language_info": {
   "codemirror_mode": {
    "name": "ipython",
    "version": 3
   },
   "file_extension": ".py",
   "mimetype": "text/x-python",
   "name": "python",
   "nbconvert_exporter": "python",
   "pygments_lexer": "ipython3",
   "version": "3.9.12"
  }
 },
 "nbformat": 4,
 "nbformat_minor": 5
}
