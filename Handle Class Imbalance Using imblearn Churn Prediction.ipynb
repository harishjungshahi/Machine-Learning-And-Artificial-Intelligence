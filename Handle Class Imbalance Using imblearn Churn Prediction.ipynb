{
 "cells": [
  {
   "cell_type": "code",
   "execution_count": 1,
   "id": "afd641c7",
   "metadata": {},
   "outputs": [],
   "source": [
    "import pandas as pd \n",
    "import seaborn as sns\n",
    "from matplotlib import pyplot as plt"
   ]
  },
  {
   "cell_type": "code",
   "execution_count": 2,
   "id": "0ef68977",
   "metadata": {},
   "outputs": [
    {
     "data": {
      "text/html": [
       "<div>\n",
       "<style scoped>\n",
       "    .dataframe tbody tr th:only-of-type {\n",
       "        vertical-align: middle;\n",
       "    }\n",
       "\n",
       "    .dataframe tbody tr th {\n",
       "        vertical-align: top;\n",
       "    }\n",
       "\n",
       "    .dataframe thead th {\n",
       "        text-align: right;\n",
       "    }\n",
       "</style>\n",
       "<table border=\"1\" class=\"dataframe\">\n",
       "  <thead>\n",
       "    <tr style=\"text-align: right;\">\n",
       "      <th></th>\n",
       "      <th>Call  Failure</th>\n",
       "      <th>Complains</th>\n",
       "      <th>Subscription  Length</th>\n",
       "      <th>Charge  Amount</th>\n",
       "      <th>Seconds of Use</th>\n",
       "      <th>Frequency of use</th>\n",
       "      <th>Frequency of SMS</th>\n",
       "      <th>Distinct Called Numbers</th>\n",
       "      <th>Age Group</th>\n",
       "      <th>Tariff Plan</th>\n",
       "      <th>Status</th>\n",
       "      <th>Age</th>\n",
       "      <th>Customer Value</th>\n",
       "      <th>Churn</th>\n",
       "    </tr>\n",
       "  </thead>\n",
       "  <tbody>\n",
       "    <tr>\n",
       "      <th>0</th>\n",
       "      <td>8</td>\n",
       "      <td>0</td>\n",
       "      <td>38</td>\n",
       "      <td>0</td>\n",
       "      <td>4370</td>\n",
       "      <td>71</td>\n",
       "      <td>5</td>\n",
       "      <td>17</td>\n",
       "      <td>3</td>\n",
       "      <td>1</td>\n",
       "      <td>1</td>\n",
       "      <td>30</td>\n",
       "      <td>197.640</td>\n",
       "      <td>0</td>\n",
       "    </tr>\n",
       "    <tr>\n",
       "      <th>1</th>\n",
       "      <td>0</td>\n",
       "      <td>0</td>\n",
       "      <td>39</td>\n",
       "      <td>0</td>\n",
       "      <td>318</td>\n",
       "      <td>5</td>\n",
       "      <td>7</td>\n",
       "      <td>4</td>\n",
       "      <td>2</td>\n",
       "      <td>1</td>\n",
       "      <td>2</td>\n",
       "      <td>25</td>\n",
       "      <td>46.035</td>\n",
       "      <td>0</td>\n",
       "    </tr>\n",
       "    <tr>\n",
       "      <th>2</th>\n",
       "      <td>10</td>\n",
       "      <td>0</td>\n",
       "      <td>37</td>\n",
       "      <td>0</td>\n",
       "      <td>2453</td>\n",
       "      <td>60</td>\n",
       "      <td>359</td>\n",
       "      <td>24</td>\n",
       "      <td>3</td>\n",
       "      <td>1</td>\n",
       "      <td>1</td>\n",
       "      <td>30</td>\n",
       "      <td>1536.520</td>\n",
       "      <td>0</td>\n",
       "    </tr>\n",
       "    <tr>\n",
       "      <th>3</th>\n",
       "      <td>10</td>\n",
       "      <td>0</td>\n",
       "      <td>38</td>\n",
       "      <td>0</td>\n",
       "      <td>4198</td>\n",
       "      <td>66</td>\n",
       "      <td>1</td>\n",
       "      <td>35</td>\n",
       "      <td>1</td>\n",
       "      <td>1</td>\n",
       "      <td>1</td>\n",
       "      <td>15</td>\n",
       "      <td>240.020</td>\n",
       "      <td>0</td>\n",
       "    </tr>\n",
       "    <tr>\n",
       "      <th>4</th>\n",
       "      <td>3</td>\n",
       "      <td>0</td>\n",
       "      <td>38</td>\n",
       "      <td>0</td>\n",
       "      <td>2393</td>\n",
       "      <td>58</td>\n",
       "      <td>2</td>\n",
       "      <td>33</td>\n",
       "      <td>1</td>\n",
       "      <td>1</td>\n",
       "      <td>1</td>\n",
       "      <td>15</td>\n",
       "      <td>145.805</td>\n",
       "      <td>0</td>\n",
       "    </tr>\n",
       "  </tbody>\n",
       "</table>\n",
       "</div>"
      ],
      "text/plain": [
       "   Call  Failure  Complains  Subscription  Length  Charge  Amount  \\\n",
       "0              8          0                    38               0   \n",
       "1              0          0                    39               0   \n",
       "2             10          0                    37               0   \n",
       "3             10          0                    38               0   \n",
       "4              3          0                    38               0   \n",
       "\n",
       "   Seconds of Use  Frequency of use  Frequency of SMS  \\\n",
       "0            4370                71                 5   \n",
       "1             318                 5                 7   \n",
       "2            2453                60               359   \n",
       "3            4198                66                 1   \n",
       "4            2393                58                 2   \n",
       "\n",
       "   Distinct Called Numbers  Age Group  Tariff Plan  Status  Age  \\\n",
       "0                       17          3            1       1   30   \n",
       "1                        4          2            1       2   25   \n",
       "2                       24          3            1       1   30   \n",
       "3                       35          1            1       1   15   \n",
       "4                       33          1            1       1   15   \n",
       "\n",
       "   Customer Value  Churn  \n",
       "0         197.640      0  \n",
       "1          46.035      0  \n",
       "2        1536.520      0  \n",
       "3         240.020      0  \n",
       "4         145.805      0  "
      ]
     },
     "execution_count": 2,
     "metadata": {},
     "output_type": "execute_result"
    }
   ],
   "source": [
    "df = pd.read_csv('churn.csv')\n",
    "df.head()"
   ]
  },
  {
   "cell_type": "code",
   "execution_count": 3,
   "id": "39e83179",
   "metadata": {},
   "outputs": [
    {
     "data": {
      "text/plain": [
       "<AxesSubplot:>"
      ]
     },
     "execution_count": 3,
     "metadata": {},
     "output_type": "execute_result"
    },
    {
     "data": {
      "image/png": "[encoded data removed]",
      "text/plain": [
       "<Figure size 432x288 with 1 Axes>"
      ]
     },
     "metadata": {
      "needs_background": "light"
     },
     "output_type": "display_data"
    }
   ],
   "source": [
    "df.Churn.value_counts().plot(kind='bar')"
   ]
  },
  {
   "cell_type": "code",
   "execution_count": 4,
   "id": "9d86002c",
   "metadata": {},
   "outputs": [
    {
     "data": {
      "text/plain": [
       "Call  Failure              0\n",
       "Complains                  0\n",
       "Subscription  Length       0\n",
       "Charge  Amount             0\n",
       "Seconds of Use             0\n",
       "Frequency of use           0\n",
       "Frequency of SMS           0\n",
       "Distinct Called Numbers    0\n",
       "Age Group                  0\n",
       "Tariff Plan                0\n",
       "Status                     0\n",
       "Age                        0\n",
       "Customer Value             0\n",
       "Churn                      0\n",
       "dtype: int64"
      ]
     },
     "execution_count": 4,
     "metadata": {},
     "output_type": "execute_result"
    }
   ],
   "source": [
    "df.isna().sum()"
   ]
  },
  {
   "cell_type": "code",
   "execution_count": 5,
   "id": "4f82f31d",
   "metadata": {},
   "outputs": [],
   "source": [
    "X = df.drop('Churn', axis=1)\n",
    "y = df['Churn']"
   ]
  },
  {
   "cell_type": "code",
   "execution_count": 6,
   "id": "1851e803",
   "metadata": {},
   "outputs": [
    {
     "name": "stdout",
     "output_type": "stream",
     "text": [
      "              precision    recall  f1-score   support\n",
      "\n",
      "           0       0.90      0.99      0.94       531\n",
      "           1       0.85      0.41      0.56        99\n",
      "\n",
      "    accuracy                           0.90       630\n",
      "   macro avg       0.88      0.70      0.75       630\n",
      "weighted avg       0.89      0.90      0.88       630\n",
      "\n"
     ]
    },
    {
     "name": "stderr",
     "output_type": "stream",
     "text": [
      "C:\\Users\\91829\\anaconda3\\lib\\site-packages\\sklearn\\linear_model\\_logistic.py:814: ConvergenceWarning: lbfgs failed to converge (status=1):\n",
      "STOP: TOTAL NO. of ITERATIONS REACHED LIMIT.\n",
      "\n",
      "Increase the number of iterations (max_iter) or scale the data as shown in:\n",
      "    https://scikit-learn.org/stable/modules/preprocessing.html\n",
      "Please also refer to the documentation for alternative solver options:\n",
      "    https://scikit-learn.org/stable/modules/linear_model.html#logistic-regression\n",
      "  n_iter_i = _check_optimize_result(\n"
     ]
    }
   ],
   "source": [
    "from sklearn.model_selection import train_test_split\n",
    "from sklearn.linear_model import LogisticRegression\n",
    "from sklearn.metrics import classification_report\n",
    "\n",
    "X_train, X_test, y_train, y_test = train_test_split(X,y,test_size=0.2,stratify=y,random_state=42)\n",
    "model = LogisticRegression(max_iter=2000)\n",
    "model.fit(X_train, y_train)\n",
    "\n",
    "y_pred = model.predict(X_test)\n",
    "report = classification_report(y_test,y_pred)\n",
    "print(report)"
   ]
  },
  {
   "cell_type": "code",
   "execution_count": 7,
   "id": "ee3016b5",
   "metadata": {},
   "outputs": [
    {
     "data": {
      "text/plain": [
       "0    2124\n",
       "1     396\n",
       "Name: Churn, dtype: int64"
      ]
     },
     "execution_count": 7,
     "metadata": {},
     "output_type": "execute_result"
    }
   ],
   "source": [
    "y_train.value_counts()"
   ]
  },
  {
   "cell_type": "code",
   "execution_count": 8,
   "id": "efc3620d",
   "metadata": {},
   "outputs": [
    {
     "data": {
      "text/plain": [
       "0    396\n",
       "1    396\n",
       "Name: Churn, dtype: int64"
      ]
     },
     "execution_count": 8,
     "metadata": {},
     "output_type": "execute_result"
    }
   ],
   "source": [
    "from imblearn.under_sampling import RandomUnderSampler\n",
    "\n",
    "rus = RandomUnderSampler(random_state=42)\n",
    "X_train_rus, y_train_rus = rus.fit_resample(X_train, y_train)\n",
    "y_train_rus.value_counts()"
   ]
  },
  {
   "cell_type": "code",
   "execution_count": 9,
   "id": "7e366ecb",
   "metadata": {},
   "outputs": [
    {
     "name": "stdout",
     "output_type": "stream",
     "text": [
      "Requirement already satisfied: imblearn in c:\\users\\91829\\anaconda3\\lib\\site-packages (0.0)\n",
      "Requirement already satisfied: imbalanced-learn in c:\\users\\91829\\anaconda3\\lib\\site-packages (from imblearn) (0.12.4)\n",
      "Requirement already satisfied: scikit-learn>=1.0.2 in c:\\users\\91829\\anaconda3\\lib\\site-packages (from imbalanced-learn->imblearn) (1.0.2)\n",
      "Requirement already satisfied: threadpoolctl>=2.0.0 in c:\\users\\91829\\anaconda3\\lib\\site-packages (from imbalanced-learn->imblearn) (2.2.0)\n",
      "Requirement already satisfied: scipy>=1.5.0 in c:\\users\\91829\\anaconda3\\lib\\site-packages (from imbalanced-learn->imblearn) (1.7.3)\n",
      "Requirement already satisfied: joblib>=1.1.1 in c:\\users\\91829\\anaconda3\\lib\\site-packages (from imbalanced-learn->imblearn) (1.4.2)\n",
      "Requirement already satisfied: numpy>=1.17.3 in c:\\users\\91829\\anaconda3\\lib\\site-packages (from imbalanced-learn->imblearn) (1.21.5)\n",
      "Note: you may need to restart the kernel to use updated packages.\n"
     ]
    }
   ],
   "source": [
    "pip install imblearn"
   ]
  },
  {
   "cell_type": "code",
   "execution_count": 12,
   "id": "00d6bb3b",
   "metadata": {},
   "outputs": [
    {
     "name": "stdout",
     "output_type": "stream",
     "text": [
      "              precision    recall  f1-score   support\n",
      "\n",
      "           0       0.97      0.81      0.88       531\n",
      "           1       0.45      0.86      0.59        99\n",
      "\n",
      "    accuracy                           0.82       630\n",
      "   macro avg       0.71      0.83      0.74       630\n",
      "weighted avg       0.89      0.82      0.84       630\n",
      "\n"
     ]
    }
   ],
   "source": [
    "model = LogisticRegression(max_iter=2000)\n",
    "model.fit(X_train_rus,y_train_rus)\n",
    "\n",
    "y_pred_rus = model.predict(X_test)\n",
    "report = classification_report(y_test,y_pred_rus)\n",
    "print(report)"
   ]
  },
  {
   "cell_type": "code",
   "execution_count": 13,
   "id": "cbe43d5e",
   "metadata": {},
   "outputs": [
    {
     "data": {
      "text/plain": [
       "0    2124\n",
       "1    2124\n",
       "Name: Churn, dtype: int64"
      ]
     },
     "execution_count": 13,
     "metadata": {},
     "output_type": "execute_result"
    }
   ],
   "source": [
    "from imblearn.over_sampling import SMOTE\n",
    "\n",
    "smote = SMOTE(random_state=42)\n",
    "X_train_smote, y_train_smote = smote.fit_resample(X_train, y_train)\n",
    "y_train_smote.value_counts()"
   ]
  },
  {
   "cell_type": "code",
   "execution_count": 14,
   "id": "a636dfba",
   "metadata": {},
   "outputs": [
    {
     "name": "stdout",
     "output_type": "stream",
     "text": [
      "              precision    recall  f1-score   support\n",
      "\n",
      "           0       0.97      0.80      0.88       531\n",
      "           1       0.44      0.85      0.58        99\n",
      "\n",
      "    accuracy                           0.81       630\n",
      "   macro avg       0.71      0.83      0.73       630\n",
      "weighted avg       0.88      0.81      0.83       630\n",
      "\n"
     ]
    }
   ],
   "source": [
    "model = LogisticRegression(max_iter=2000)\n",
    "model.fit(X_train_smote, y_train_smote)\n",
    "\n",
    "y_pred_smote = model.predict(X_test)\n",
    "report = classification_report(y_test, y_pred_smote)\n",
    "print(report)"
   ]
  },
  {
   "cell_type": "code",
   "execution_count": 15,
   "id": "29c8abf0",
   "metadata": {},
   "outputs": [
    {
     "data": {
      "text/plain": [
       "0    2091\n",
       "1    2091\n",
       "Name: Churn, dtype: int64"
      ]
     },
     "execution_count": 15,
     "metadata": {},
     "output_type": "execute_result"
    }
   ],
   "source": [
    "from imblearn.combine import SMOTETomek\n",
    "\n",
    "smt = SMOTETomek(random_state=42)\n",
    "X_tomek, y_tomek = smt.fit_resample(X_train, y_train)\n",
    "y_tomek.value_counts()"
   ]
  },
  {
   "cell_type": "code",
   "execution_count": 16,
   "id": "d1eba2fd",
   "metadata": {},
   "outputs": [
    {
     "name": "stdout",
     "output_type": "stream",
     "text": [
      "              precision    recall  f1-score   support\n",
      "\n",
      "           0       0.97      0.80      0.88       531\n",
      "           1       0.45      0.86      0.59        99\n",
      "\n",
      "    accuracy                           0.81       630\n",
      "   macro avg       0.71      0.83      0.73       630\n",
      "weighted avg       0.89      0.81      0.83       630\n",
      "\n"
     ]
    }
   ],
   "source": [
    "model = LogisticRegression(max_iter=2000)\n",
    "model.fit(X_tomek, y_tomek)\n",
    "\n",
    "y_pred_tomek = model.predict(X_test)\n",
    "report = classification_report(y_test, y_pred_tomek)\n",
    "print(report)"
   ]
  },
  {
   "cell_type": "code",
   "execution_count": null,
   "id": "f389a04a",
   "metadata": {},
   "outputs": [],
   "source": []
  }
 ],
 "metadata": {
  "kernelspec": {
   "display_name": "Python 3 (ipykernel)",
   "language": "python",
   "name": "python3"
  },
  "language_info": {
   "codemirror_mode": {
    "name": "ipython",
    "version": 3
   },
   "file_extension": ".py",
   "mimetype": "text/x-python",
   "name": "python",
   "nbconvert_exporter": "python",
   "pygments_lexer": "ipython3",
   "version": "3.9.12"
  }
 },
 "nbformat": 4,
 "nbformat_minor": 5
}
