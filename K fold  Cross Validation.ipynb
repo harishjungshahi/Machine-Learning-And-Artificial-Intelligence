{
 "cells": [
  {
   "cell_type": "markdown",
   "id": "bd5b5e2e-491f-4ef1-a49a-9715218f5981",
   "metadata": {},
   "source": [
    "# Harish practise: K fold  Cross Validation"
   ]
  },
  {
   "cell_type": "code",
   "execution_count": 4,
   "id": "74f85dbd-b79c-4463-9c25-405a03ce287c",
   "metadata": {},
   "outputs": [],
   "source": [
    "import numpy as np\n",
    "import matplotlib.pyplot as plt\n",
    "from sklearn.datasets import make_classification\n",
    "from sklearn.linear_model import LogisticRegression\n",
    "from sklearn.model_selection import train_test_split"
   ]
  },
  {
   "cell_type": "markdown",
   "id": "f5e0f375-5132-4fc1-b34e-e852e7c20bac",
   "metadata": {},
   "source": [
    "# Generating a synthetic dataset using make_classification"
   ]
  },
  {
   "cell_type": "code",
   "execution_count": 5,
   "id": "74f33081-1905-4063-ac87-b2ac0afe99f0",
   "metadata": {},
   "outputs": [],
   "source": [
    "X, y = make_classification(\n",
    "    n_features=10, \n",
    "    n_samples=1000, \n",
    "    n_informative=8,\n",
    "    n_redundant=2,\n",
    "    n_repeated=0,\n",
    "    n_classes=2, \n",
    "    random_state=42\n",
    ")"
   ]
  },
  {
   "cell_type": "markdown",
   "id": "0f4a1fad-d58d-4e96-aabc-bb01b892b7b7",
   "metadata": {},
   "source": [
    "# Spliting data into training and testing sets"
   ]
  },
  {
   "cell_type": "code",
   "execution_count": 9,
   "id": "86e7be41-8679-42ed-abd1-a065a25076b6",
   "metadata": {},
   "outputs": [],
   "source": [
    "X_train, X_test, y_train, y_test = train_test_split(X, y, test_size=0.25, random_state=42)"
   ]
  },
  {
   "cell_type": "code",
   "execution_count": 11,
   "id": "329d4e00-7d7b-4b2e-89c3-6dc768667eea",
   "metadata": {},
   "outputs": [
    {
     "name": "stdout",
     "output_type": "stream",
     "text": [
      "              precision    recall  f1-score   support\n",
      "\n",
      "           0       0.73      0.65      0.69       130\n",
      "           1       0.66      0.74      0.70       120\n",
      "\n",
      "    accuracy                           0.70       250\n",
      "   macro avg       0.70      0.70      0.70       250\n",
      "weighted avg       0.70      0.70      0.70       250\n",
      "\n"
     ]
    }
   ],
   "source": [
    "from sklearn.metrics import classification_report\n",
    "\n",
    "model = LogisticRegression()\n",
    "model.fit(X_train, y_train)\n",
    "\n",
    "y_pred = model.predict(X_test)\n",
    "report = classification_report(y_test,y_pred)\n",
    "print(report)"
   ]
  },
  {
   "cell_type": "code",
   "execution_count": 12,
   "id": "23a95113-0c3c-4711-b461-37a86a34d16e",
   "metadata": {},
   "outputs": [
    {
     "name": "stdout",
     "output_type": "stream",
     "text": [
      "[0 2 3 4] [1]\n",
      "[0 1 2 3] [4]\n",
      "[1 2 3 4] [0]\n",
      "[0 1 3 4] [2]\n",
      "[0 1 2 4] [3]\n"
     ]
    }
   ],
   "source": [
    "from sklearn.model_selection import KFold\n",
    "\n",
    "kf = KFold(n_splits=5, shuffle=True, random_state=45)\n",
    "\n",
    "for train_index, test_index in kf.split([50,60,70,80,90]):\n",
    "    print(train_index, test_index)"
   ]
  },
  {
   "cell_type": "code",
   "execution_count": 13,
   "id": "6eb83f71-91a4-47ee-a165-6647c56c86dc",
   "metadata": {},
   "outputs": [
    {
     "name": "stdout",
     "output_type": "stream",
     "text": [
      "0.705\n",
      "0.675\n",
      "0.675\n",
      "0.72\n",
      "0.66\n"
     ]
    }
   ],
   "source": [
    "model = LogisticRegression()\n",
    "for train_index, test_index in kf.split(X,y):\n",
    "    X_train, X_test = X[train_index], X[test_index]\n",
    "    y_train, y_test = y[train_index], y[test_index]\n",
    "    model.fit(X_train,y_train)\n",
    "    print(model.score(X_test,y_test))"
   ]
  },
  {
   "cell_type": "markdown",
   "id": "2887e45f-270e-4b6c-9524-fd37efd843be",
   "metadata": {},
   "source": [
    "### Cross validation on Logistic Regression"
   ]
  },
  {
   "cell_type": "code",
   "execution_count": 14,
   "id": "0528f41f-22db-42a5-ab94-6e9fcf89c3bb",
   "metadata": {},
   "outputs": [
    {
     "data": {
      "text/plain": [
       "array([0.705, 0.675, 0.675, 0.72 , 0.66 ])"
      ]
     },
     "execution_count": 14,
     "metadata": {},
     "output_type": "execute_result"
    }
   ],
   "source": [
    "from sklearn.model_selection import cross_val_score\n",
    "\n",
    "cross_val_score(LogisticRegression(), X, y, cv=kf, scoring=\"accuracy\")"
   ]
  },
  {
   "cell_type": "markdown",
   "id": "c1e5c7dc-b6f8-4d2a-8f68-a843484ed17f",
   "metadata": {},
   "source": [
    "### Cross validation on Decision Tree"
   ]
  },
  {
   "cell_type": "code",
   "execution_count": 16,
   "id": "1285eb1c-a881-4033-8e0b-de91353b436e",
   "metadata": {},
   "outputs": [
    {
     "data": {
      "text/plain": [
       "array([0.795, 0.825, 0.78 , 0.78 , 0.825])"
      ]
     },
     "execution_count": 16,
     "metadata": {},
     "output_type": "execute_result"
    }
   ],
   "source": [
    "from sklearn.tree import DecisionTreeClassifier\n",
    "\n",
    "cross_val_score(DecisionTreeClassifier(), X, y, cv=kf, scoring=\"accuracy\")"
   ]
  },
  {
   "cell_type": "markdown",
   "id": "7319e578-6f35-409b-946b-8b5925ce844e",
   "metadata": {},
   "source": [
    "### Cross validation on Random Forest"
   ]
  },
  {
   "cell_type": "code",
   "execution_count": 20,
   "id": "d4022d6a-f25e-4518-9882-f5ae3909b329",
   "metadata": {},
   "outputs": [
    {
     "data": {
      "text/plain": [
       "array([0.855, 0.855, 0.845, 0.82 , 0.895])"
      ]
     },
     "execution_count": 20,
     "metadata": {},
     "output_type": "execute_result"
    }
   ],
   "source": [
    "from sklearn.ensemble import RandomForestClassifier\n",
    "cross_val_score(RandomForestClassifier(n_estimators=10), X, y, cv=kf, scoring=\"accuracy\")"
   ]
  },
  {
   "cell_type": "markdown",
   "id": "5cca386d-5a48-4e5a-b200-a42f308992c6",
   "metadata": {},
   "source": [
    "### Cross validation to evaluate same model with different parameters"
   ]
  },
  {
   "cell_type": "markdown",
   "id": "44277d38-3779-4f1c-b5c6-d529ff217303",
   "metadata": {},
   "source": [
    "Random Forest on 20 Trees"
   ]
  },
  {
   "cell_type": "code",
   "execution_count": 21,
   "id": "ea9ed4e0-2d0a-41a8-8627-51050e542439",
   "metadata": {},
   "outputs": [
    {
     "data": {
      "text/plain": [
       "array([0.855, 0.85 , 0.9  , 0.855, 0.895])"
      ]
     },
     "execution_count": 21,
     "metadata": {},
     "output_type": "execute_result"
    }
   ],
   "source": [
    "from sklearn.ensemble import RandomForestClassifier\n",
    "cross_val_score(RandomForestClassifier(n_estimators=20), X, y, cv=kf, scoring=\"accuracy\")"
   ]
  },
  {
   "cell_type": "markdown",
   "id": "323120f5-eaa6-4485-b2cc-643dadc07e4a",
   "metadata": {},
   "source": [
    "Random Forest on 30 Trees"
   ]
  },
  {
   "cell_type": "code",
   "execution_count": 22,
   "id": "a6a012fc-9d2e-4ced-9eaa-ade5e9b4c455",
   "metadata": {},
   "outputs": [
    {
     "data": {
      "text/plain": [
       "array([0.88 , 0.88 , 0.87 , 0.87 , 0.875])"
      ]
     },
     "execution_count": 22,
     "metadata": {},
     "output_type": "execute_result"
    }
   ],
   "source": [
    "from sklearn.ensemble import RandomForestClassifier\n",
    "cross_val_score(RandomForestClassifier(n_estimators=30), X, y, cv=kf, scoring=\"accuracy\")"
   ]
  },
  {
   "cell_type": "markdown",
   "id": "57f8b0cc-8a0d-4e76-b66a-d2acfc39d9bf",
   "metadata": {},
   "source": [
    "### Using cross_validate to evaluate multiple metrics"
   ]
  },
  {
   "cell_type": "code",
   "execution_count": 24,
   "id": "74691cf0-7034-4603-b7db-aaa8a8254e7f",
   "metadata": {},
   "outputs": [
    {
     "data": {
      "text/plain": [
       "{'fit_time': array([0.00697947, 0.00498748, 0.00598431, 0.00398946, 0.00598407]),\n",
       " 'score_time': array([0.21542358, 0.00499725, 0.0039885 , 0.00299191, 0.00199509]),\n",
       " 'test_accuracy': array([0.705, 0.675, 0.675, 0.72 , 0.66 ]),\n",
       " 'test_roc_auc': array([0.75888889, 0.75157642, 0.77941325, 0.79626656, 0.73191919])}"
      ]
     },
     "execution_count": 24,
     "metadata": {},
     "output_type": "execute_result"
    }
   ],
   "source": [
    "from sklearn.model_selection import cross_validate\n",
    "\n",
    "cross_validate(LogisticRegression(), X, y, cv=kf, scoring=[\"accuracy\", \"roc_auc\"])"
   ]
  },
  {
   "cell_type": "code",
   "execution_count": null,
   "id": "9b13bcbd-829b-403e-822f-0800fdc5c4d4",
   "metadata": {},
   "outputs": [],
   "source": []
  }
 ],
 "metadata": {
  "kernelspec": {
   "display_name": "Python 3 (ipykernel)",
   "language": "python",
   "name": "python3"
  },
  "language_info": {
   "codemirror_mode": {
    "name": "ipython",
    "version": 3
   },
   "file_extension": ".py",
   "mimetype": "text/x-python",
   "name": "python",
   "nbconvert_exporter": "python",
   "pygments_lexer": "ipython3",
   "version": "3.12.7"
  }
 },
 "nbformat": 4,
 "nbformat_minor": 5
}
