{
 "cells": [
  {
   "cell_type": "markdown",
   "id": "40baf193",
   "metadata": {},
   "source": [
    "# Harish Practise: Movie Recommendation System Using SVD"
   ]
  },
  {
   "cell_type": "markdown",
   "id": "4369feb2",
   "metadata": {},
   "source": [
    "# Importing the basic libraries"
   ]
  },
  {
   "cell_type": "code",
   "execution_count": 1,
   "id": "c2039b9e",
   "metadata": {},
   "outputs": [],
   "source": [
    "import numpy as np\n",
    "import pandas as pd"
   ]
  },
  {
   "cell_type": "markdown",
   "id": "5f407761",
   "metadata": {},
   "source": [
    "# Importing & Parsing the dataset as ratings and movies details"
   ]
  },
  {
   "cell_type": "code",
   "execution_count": 4,
   "id": "7a06164b",
   "metadata": {},
   "outputs": [
    {
     "name": "stdout",
     "output_type": "stream",
     "text": [
      "         user_id  movie_id  rating       time\n",
      "0              1      1193       5  978300760\n",
      "1              1       661       3  978302109\n",
      "2              1       914       3  978301968\n",
      "3              1      3408       4  978300275\n",
      "4              1      2355       5  978824291\n",
      "...          ...       ...     ...        ...\n",
      "1000204     6040      1091       1  956716541\n",
      "1000205     6040      1094       5  956704887\n",
      "1000206     6040       562       5  956704746\n",
      "1000207     6040      1096       4  956715648\n",
      "1000208     6040      1097       4  956715569\n",
      "\n",
      "[1000209 rows x 4 columns]\n"
     ]
    }
   ],
   "source": [
    "ratingData = pd.io.parsers.read_csv('ratings.dat',\n",
    "                                   names=['user_id','movie_id','rating','time'],engine='python',delimiter='::',encoding='latin-1')\n",
    "movieData = pd.io.parsers.read_csv('movies.dat',names=['movie_id','title','genre'],engine='python',delimiter='::',encoding='latin-1')\n",
    "print(ratingData)"
   ]
  },
  {
   "cell_type": "code",
   "execution_count": 5,
   "id": "d245b32f",
   "metadata": {},
   "outputs": [
    {
     "name": "stdout",
     "output_type": "stream",
     "text": [
      "      movie_id                               title  \\\n",
      "0            1                    Toy Story (1995)   \n",
      "1            2                      Jumanji (1995)   \n",
      "2            3             Grumpier Old Men (1995)   \n",
      "3            4            Waiting to Exhale (1995)   \n",
      "4            5  Father of the Bride Part II (1995)   \n",
      "...        ...                                 ...   \n",
      "3878      3948             Meet the Parents (2000)   \n",
      "3879      3949          Requiem for a Dream (2000)   \n",
      "3880      3950                    Tigerland (2000)   \n",
      "3881      3951             Two Family House (2000)   \n",
      "3882      3952               Contender, The (2000)   \n",
      "\n",
      "                             genre  \n",
      "0      Animation|Children's|Comedy  \n",
      "1     Adventure|Children's|Fantasy  \n",
      "2                   Comedy|Romance  \n",
      "3                     Comedy|Drama  \n",
      "4                           Comedy  \n",
      "...                            ...  \n",
      "3878                        Comedy  \n",
      "3879                         Drama  \n",
      "3880                         Drama  \n",
      "3881                         Drama  \n",
      "3882                Drama|Thriller  \n",
      "\n",
      "[3883 rows x 3 columns]\n"
     ]
    }
   ],
   "source": [
    "print(movieData)"
   ]
  },
  {
   "cell_type": "markdown",
   "id": "f6b971a4",
   "metadata": {},
   "source": [
    "# Create the ratings matrix of shape (m×u)"
   ]
  },
  {
   "cell_type": "code",
   "execution_count": 10,
   "id": "fb99bdd3",
   "metadata": {},
   "outputs": [
    {
     "name": "stdout",
     "output_type": "stream",
     "text": [
      "[[5 0 0 ... 0 0 3]\n",
      " [0 0 0 ... 0 0 0]\n",
      " [0 0 0 ... 0 0 0]\n",
      " ...\n",
      " [0 0 0 ... 0 0 0]\n",
      " [0 0 0 ... 0 0 0]\n",
      " [0 0 0 ... 0 0 0]]\n"
     ]
    }
   ],
   "source": [
    "ratingMatrix = np.ndarray(\n",
    "    shape=(np.max(ratingData.movie_id.values), np.max(ratingData.user_id.values)),\n",
    "    dtype=np.uint8\n",
    ")\n",
    "ratingMatrix[ratingData.movie_id.values - 1, ratingData.user_id.values - 1] = ratingData.rating.values\n",
    "print(ratingMatrix)"
   ]
  },
  {
   "cell_type": "markdown",
   "id": "3e580ba1",
   "metadata": {},
   "source": [
    "# Subtract Mean off - Normalization"
   ]
  },
  {
   "cell_type": "code",
   "execution_count": 11,
   "id": "0e1b950a",
   "metadata": {},
   "outputs": [
    {
     "name": "stdout",
     "output_type": "stream",
     "text": [
      "[[ 3.57400662 -1.42599338 -1.42599338 ... -1.42599338 -1.42599338\n",
      "   1.57400662]\n",
      " [-0.37152318 -0.37152318 -0.37152318 ... -0.37152318 -0.37152318\n",
      "  -0.37152318]\n",
      " [-0.23874172 -0.23874172 -0.23874172 ... -0.23874172 -0.23874172\n",
      "  -0.23874172]\n",
      " ...\n",
      " [-0.03278146 -0.03278146 -0.03278146 ... -0.03278146 -0.03278146\n",
      "  -0.03278146]\n",
      " [-0.02582781 -0.02582781 -0.02582781 ... -0.02582781 -0.02582781\n",
      "  -0.02582781]\n",
      " [-0.24288079 -0.24288079 -0.24288079 ... -0.24288079 -0.24288079\n",
      "  -0.24288079]]\n"
     ]
    }
   ],
   "source": [
    "normalizedMatrix = ratingMatrix - np.asarray([(np.mean(ratingMatrix, 1))]).T\n",
    "print(normalizedMatrix)"
   ]
  },
  {
   "cell_type": "markdown",
   "id": "2698c9f7",
   "metadata": {},
   "source": [
    "# Computing SVD"
   ]
  },
  {
   "cell_type": "code",
   "execution_count": 12,
   "id": "2d3ee75c",
   "metadata": {},
   "outputs": [],
   "source": [
    "A = normalizedMatrix.T / np.sqrt(ratingMatrix.shape[0] - 1)\n",
    "U, S, V = np.linalg.svd(A)"
   ]
  },
  {
   "cell_type": "markdown",
   "id": "f9cc2a0c",
   "metadata": {},
   "source": [
    "# Calculate cosine similarity, sort by most similar and return the top N"
   ]
  },
  {
   "cell_type": "code",
   "execution_count": 13,
   "id": "07a475c9",
   "metadata": {},
   "outputs": [],
   "source": [
    "def similar(ratingData, movie_id, top_n):\n",
    "    index = movie_id - 1 # Movie id starts from 1\n",
    "    movie_row = ratingData[index, :]\n",
    "    magnitude = np.sqrt(np.einsum('ij, ij -> i', ratingData, ratingData)) #Einstein summation |  traditional matrix multiplication and is equivalent to np.matmul(a,b)\n",
    "    similarity = np.dot(movie_row, ratingData.T) / (magnitude[index] * magnitude)\n",
    "    sort_indexes = np.argsort(-similarity) #Perform an indirect sort along the given axis (Last axis)\n",
    "    return sort_indexes[:top_n]"
   ]
  },
  {
   "cell_type": "markdown",
   "id": "8a6a6762",
   "metadata": {},
   "source": [
    "# Select k principal components to represent the movies, a movie_id to find recommendations and print the top_n results"
   ]
  },
  {
   "cell_type": "code",
   "execution_count": 14,
   "id": "2ce5d5c2",
   "metadata": {},
   "outputs": [
    {
     "name": "stdout",
     "output_type": "stream",
     "text": [
      "Recommendations for Movie Jumanji (1995): \n",
      "\n",
      "Jumanji (1995)\n",
      "Hook (1991)\n",
      "Indian in the Cupboard, The (1995)\n",
      "NeverEnding Story II: The Next Chapter, The (1990)\n",
      "Dragonheart (1996)\n"
     ]
    },
    {
     "name": "stderr",
     "output_type": "stream",
     "text": [
      "C:\\Users\\91829\\AppData\\Local\\Temp\\ipykernel_3404\\1928412997.py:5: RuntimeWarning: invalid value encountered in true_divide\n",
      "  similarity = np.dot(movie_row, ratingData.T) / (magnitude[index] * magnitude)\n"
     ]
    }
   ],
   "source": [
    "k = 50\n",
    "movie_id = 2\n",
    "top_n = 5\n",
    "\n",
    "sliced = V.T[:, :k] # representative data\n",
    "indexes = similar(sliced, movie_id, top_n)\n",
    "\n",
    "print('Recommendations for Movie {0}: \\n'.format(\n",
    "movieData[movieData.movie_id == movie_id].title.values[0]))\n",
    "for id in indexes + 1:\n",
    "    print(movieData[movieData.movie_id == id].title.values[0])"
   ]
  },
  {
   "cell_type": "code",
   "execution_count": null,
   "id": "489bd1d1",
   "metadata": {},
   "outputs": [],
   "source": []
  }
 ],
 "metadata": {
  "kernelspec": {
   "display_name": "Python 3 (ipykernel)",
   "language": "python",
   "name": "python3"
  },
  "language_info": {
   "codemirror_mode": {
    "name": "ipython",
    "version": 3
   },
   "file_extension": ".py",
   "mimetype": "text/x-python",
   "name": "python",
   "nbconvert_exporter": "python",
   "pygments_lexer": "ipython3",
   "version": "3.9.12"
  }
 },
 "nbformat": 4,
 "nbformat_minor": 5
}
