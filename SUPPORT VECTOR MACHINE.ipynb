{
 "cells": [
  {
   "cell_type": "markdown",
   "id": "73f6041f",
   "metadata": {},
   "source": [
    "# <J> Harish Jung Shahi : Support Vector Machine Practise </J>"
   ]
  },
  {
   "cell_type": "code",
   "execution_count": 1,
   "id": "4aee8091",
   "metadata": {},
   "outputs": [
    {
     "data": {
      "text/html": [
       "<div>\n",
       "<style scoped>\n",
       "    .dataframe tbody tr th:only-of-type {\n",
       "        vertical-align: middle;\n",
       "    }\n",
       "\n",
       "    .dataframe tbody tr th {\n",
       "        vertical-align: top;\n",
       "    }\n",
       "\n",
       "    .dataframe thead th {\n",
       "        text-align: right;\n",
       "    }\n",
       "</style>\n",
       "<table border=\"1\" class=\"dataframe\">\n",
       "  <thead>\n",
       "    <tr style=\"text-align: right;\">\n",
       "      <th></th>\n",
       "      <th>Area</th>\n",
       "      <th>MajorAxisLength</th>\n",
       "      <th>MinorAxisLength</th>\n",
       "      <th>Eccentricity</th>\n",
       "      <th>ConvexArea</th>\n",
       "      <th>Extent</th>\n",
       "      <th>Perimeter</th>\n",
       "      <th>Class</th>\n",
       "    </tr>\n",
       "  </thead>\n",
       "  <tbody>\n",
       "    <tr>\n",
       "      <th>92</th>\n",
       "      <td>85156</td>\n",
       "      <td>422.279133</td>\n",
       "      <td>260.210623</td>\n",
       "      <td>0.787586</td>\n",
       "      <td>87057</td>\n",
       "      <td>0.702561</td>\n",
       "      <td>1140.684</td>\n",
       "      <td>Kecimen</td>\n",
       "    </tr>\n",
       "    <tr>\n",
       "      <th>193</th>\n",
       "      <td>79748</td>\n",
       "      <td>441.934293</td>\n",
       "      <td>231.717531</td>\n",
       "      <td>0.851518</td>\n",
       "      <td>81718</td>\n",
       "      <td>0.738448</td>\n",
       "      <td>1120.963</td>\n",
       "      <td>Kecimen</td>\n",
       "    </tr>\n",
       "    <tr>\n",
       "      <th>145</th>\n",
       "      <td>69317</td>\n",
       "      <td>393.398997</td>\n",
       "      <td>228.722883</td>\n",
       "      <td>0.813617</td>\n",
       "      <td>72170</td>\n",
       "      <td>0.661674</td>\n",
       "      <td>1066.388</td>\n",
       "      <td>Kecimen</td>\n",
       "    </tr>\n",
       "    <tr>\n",
       "      <th>62</th>\n",
       "      <td>78571</td>\n",
       "      <td>443.822291</td>\n",
       "      <td>228.757615</td>\n",
       "      <td>0.856934</td>\n",
       "      <td>81718</td>\n",
       "      <td>0.642193</td>\n",
       "      <td>1157.330</td>\n",
       "      <td>Kecimen</td>\n",
       "    </tr>\n",
       "    <tr>\n",
       "      <th>597</th>\n",
       "      <td>109791</td>\n",
       "      <td>477.033502</td>\n",
       "      <td>294.533847</td>\n",
       "      <td>0.786627</td>\n",
       "      <td>112766</td>\n",
       "      <td>0.744780</td>\n",
       "      <td>1290.239</td>\n",
       "      <td>Besni</td>\n",
       "    </tr>\n",
       "  </tbody>\n",
       "</table>\n",
       "</div>"
      ],
      "text/plain": [
       "       Area  MajorAxisLength  MinorAxisLength  Eccentricity  ConvexArea  \\\n",
       "92    85156       422.279133       260.210623      0.787586       87057   \n",
       "193   79748       441.934293       231.717531      0.851518       81718   \n",
       "145   69317       393.398997       228.722883      0.813617       72170   \n",
       "62    78571       443.822291       228.757615      0.856934       81718   \n",
       "597  109791       477.033502       294.533847      0.786627      112766   \n",
       "\n",
       "       Extent  Perimeter    Class  \n",
       "92   0.702561   1140.684  Kecimen  \n",
       "193  0.738448   1120.963  Kecimen  \n",
       "145  0.661674   1066.388  Kecimen  \n",
       "62   0.642193   1157.330  Kecimen  \n",
       "597  0.744780   1290.239    Besni  "
      ]
     },
     "execution_count": 1,
     "metadata": {},
     "output_type": "execute_result"
    }
   ],
   "source": [
    "import pandas as pd \n",
    "from sklearn.model_selection import train_test_split\n",
    "df = pd.read_excel(\"Raisin_Dataset.xlsx\")\n",
    "df.sample(5)"
   ]
  },
  {
   "cell_type": "code",
   "execution_count": 2,
   "id": "aaf82801",
   "metadata": {},
   "outputs": [
    {
     "data": {
      "text/plain": [
       "(900, 8)"
      ]
     },
     "execution_count": 2,
     "metadata": {},
     "output_type": "execute_result"
    }
   ],
   "source": [
    "df.shape"
   ]
  },
  {
   "cell_type": "markdown",
   "id": "59d05fab",
   "metadata": {},
   "source": [
    "# Train,Test,Split"
   ]
  },
  {
   "cell_type": "code",
   "execution_count": 3,
   "id": "14a8e5ad",
   "metadata": {},
   "outputs": [],
   "source": [
    "X = df[[\"Area\",\"MajorAxisLength\",\"MinorAxisLength\",\"Eccentricity\",\"ConvexArea\",\"Extent\",\"Perimeter\"]]\n",
    "y = df[\"Class\"]\n",
    "from sklearn.model_selection import train_test_split\n",
    "X_train,X_test,y_train,y_test = train_test_split(X,y,test_size=0.2,random_state=10)"
   ]
  },
  {
   "cell_type": "markdown",
   "id": "c3daef09",
   "metadata": {},
   "source": [
    "# Scale the Data"
   ]
  },
  {
   "cell_type": "code",
   "execution_count": 4,
   "id": "0a16cfdf",
   "metadata": {},
   "outputs": [],
   "source": [
    "from sklearn.preprocessing import StandardScaler, MinMaxScaler\n",
    "scaler = StandardScaler()\n",
    "scaler.fit(X_train)\n",
    "X_train_scaled = scaler.transform(X_train)\n",
    "X_test_scaled = scaler.transform(X_test)"
   ]
  },
  {
   "cell_type": "code",
   "execution_count": 5,
   "id": "a40f4003",
   "metadata": {},
   "outputs": [
    {
     "data": {
      "text/plain": [
       "array([[ 0.9531725 ,  0.38849113,  1.79100179, ...,  1.03729448,\n",
       "        -1.40859789,  1.36594862],\n",
       "       [ 1.39153009,  0.30663321,  2.80882493, ...,  1.31793802,\n",
       "         0.94345174,  0.90601714],\n",
       "       [ 0.07872069,  0.00387698,  0.29301415, ...,  0.03382983,\n",
       "        -0.13237134, -0.02320567],\n",
       "       ...,\n",
       "       [ 1.90157823,  1.37654143,  1.90004675, ...,  1.83167362,\n",
       "         0.08831091,  1.62914584],\n",
       "       [-0.87362688, -0.69496652, -1.13039876, ..., -0.87783644,\n",
       "        -0.82717271, -0.87115178],\n",
       "       [-0.2488586 , -0.32582005,  0.02917885, ..., -0.27006703,\n",
       "        -0.40402733, -0.28495985]])"
      ]
     },
     "execution_count": 5,
     "metadata": {},
     "output_type": "execute_result"
    }
   ],
   "source": [
    "X_train_scaled"
   ]
  },
  {
   "cell_type": "code",
   "execution_count": 6,
   "id": "a4e6449c",
   "metadata": {},
   "outputs": [
    {
     "data": {
      "text/plain": [
       "array([[-6.42789471e-02, -1.63759340e-01,  2.26099004e-01, ...,\n",
       "        -1.02166868e-01,  3.52019998e-01, -9.16324629e-02],\n",
       "       [-4.54724159e-01, -6.02494029e-01, -1.20577395e-01, ...,\n",
       "        -4.89211965e-01,  8.66475824e-01, -6.06623639e-01],\n",
       "       [-8.72584204e-01, -6.02971949e-01, -1.23869977e+00, ...,\n",
       "        -8.76718727e-01, -1.15720726e-03, -8.16175265e-01],\n",
       "       ...,\n",
       "       [-9.26345760e-01, -8.68512611e-01, -9.65177409e-01, ...,\n",
       "        -8.82355896e-01,  2.71225887e-01, -8.56974558e-01],\n",
       "       [ 4.64613717e-01,  5.55238627e-01,  3.78261779e-01, ...,\n",
       "         4.38102310e-01,  1.37364521e+00,  4.13575707e-01],\n",
       "       [-9.06941755e-01, -8.52054875e-01, -9.62778745e-01, ...,\n",
       "        -8.90082705e-01, -1.55435312e-01, -8.50377811e-01]])"
      ]
     },
     "execution_count": 6,
     "metadata": {},
     "output_type": "execute_result"
    }
   ],
   "source": [
    "X_test_scaled"
   ]
  },
  {
   "cell_type": "markdown",
   "id": "621b038d",
   "metadata": {},
   "source": [
    "# Model Training Using SVM: RBF Kernel No Scaling"
   ]
  },
  {
   "cell_type": "code",
   "execution_count": 7,
   "id": "4bada13e",
   "metadata": {},
   "outputs": [
    {
     "name": "stdout",
     "output_type": "stream",
     "text": [
      "              precision    recall  f1-score   support\n",
      "\n",
      "       Besni       0.86      0.75      0.80        83\n",
      "     Kecimen       0.81      0.90      0.85        97\n",
      "\n",
      "    accuracy                           0.83       180\n",
      "   macro avg       0.83      0.82      0.82       180\n",
      "weighted avg       0.83      0.83      0.83       180\n",
      "\n"
     ]
    }
   ],
   "source": [
    "from sklearn.svm import SVC\n",
    "model = SVC(kernel=\"rbf\")\n",
    "model.fit(X_train,y_train)\n",
    "y_pred = model.predict(X_test)\n",
    "from sklearn.metrics import classification_report\n",
    "report = classification_report(y_test,y_pred)\n",
    "print(report)"
   ]
  },
  {
   "cell_type": "markdown",
   "id": "3a55c458",
   "metadata": {},
   "source": [
    "# Model Training Using SVM: RBF Kernel: With Scaling"
   ]
  },
  {
   "cell_type": "code",
   "execution_count": 8,
   "id": "3f71f099",
   "metadata": {},
   "outputs": [
    {
     "name": "stdout",
     "output_type": "stream",
     "text": [
      "              precision    recall  f1-score   support\n",
      "\n",
      "       Besni       0.91      0.83      0.87        83\n",
      "     Kecimen       0.87      0.93      0.90        97\n",
      "\n",
      "    accuracy                           0.88       180\n",
      "   macro avg       0.89      0.88      0.88       180\n",
      "weighted avg       0.88      0.88      0.88       180\n",
      "\n"
     ]
    }
   ],
   "source": [
    "from sklearn.svm import SVC\n",
    "model = SVC(kernel=\"rbf\")\n",
    "model.fit(X_train_scaled,y_train)\n",
    "y_pred = model.predict(X_test_scaled)\n",
    "from sklearn.metrics import classification_report\n",
    "report = classification_report(y_test,y_pred)\n",
    "print(report)"
   ]
  },
  {
   "cell_type": "markdown",
   "id": "8cec75b2",
   "metadata": {},
   "source": [
    "# Model Training Using SVM: Linear Kernel : No Scaling"
   ]
  },
  {
   "cell_type": "code",
   "execution_count": 9,
   "id": "577678e7",
   "metadata": {},
   "outputs": [
    {
     "name": "stdout",
     "output_type": "stream",
     "text": [
      "              precision    recall  f1-score   support\n",
      "\n",
      "       Besni       0.90      0.87      0.88        83\n",
      "     Kecimen       0.89      0.92      0.90        97\n",
      "\n",
      "    accuracy                           0.89       180\n",
      "   macro avg       0.90      0.89      0.89       180\n",
      "weighted avg       0.89      0.89      0.89       180\n",
      "\n"
     ]
    }
   ],
   "source": [
    "from sklearn.svm import SVC\n",
    "model = SVC(kernel=\"linear\")\n",
    "model.fit(X_train,y_train)\n",
    "y_pred = model.predict(X_test)\n",
    "from sklearn.metrics import classification_report\n",
    "report = classification_report(y_test,y_pred)\n",
    "print(report)"
   ]
  },
  {
   "cell_type": "markdown",
   "id": "15e83c93",
   "metadata": {},
   "source": [
    "# Model Training Using SVM: Linear Kernel : With Scaling"
   ]
  },
  {
   "cell_type": "code",
   "execution_count": 10,
   "id": "4df0d1bc",
   "metadata": {},
   "outputs": [
    {
     "name": "stdout",
     "output_type": "stream",
     "text": [
      "              precision    recall  f1-score   support\n",
      "\n",
      "       Besni       0.90      0.84      0.87        83\n",
      "     Kecimen       0.87      0.92      0.89        97\n",
      "\n",
      "    accuracy                           0.88       180\n",
      "   macro avg       0.88      0.88      0.88       180\n",
      "weighted avg       0.88      0.88      0.88       180\n",
      "\n"
     ]
    }
   ],
   "source": [
    "from sklearn.svm import SVC\n",
    "model = SVC(kernel=\"linear\")\n",
    "model.fit(X_train_scaled,y_train)\n",
    "y_pred = model.predict(X_test_scaled)\n",
    "from sklearn.metrics import classification_report\n",
    "report = classification_report(y_test,y_pred)\n",
    "print(report)"
   ]
  },
  {
   "cell_type": "code",
   "execution_count": 11,
   "id": "9d0b8b0f",
   "metadata": {},
   "outputs": [
    {
     "name": "stdout",
     "output_type": "stream",
     "text": [
      "              precision    recall  f1-score   support\n",
      "\n",
      "       Besni       0.91      0.82      0.86        83\n",
      "     Kecimen       0.86      0.93      0.89        97\n",
      "\n",
      "    accuracy                           0.88       180\n",
      "   macro avg       0.88      0.87      0.88       180\n",
      "weighted avg       0.88      0.88      0.88       180\n",
      "\n"
     ]
    }
   ],
   "source": [
    "from sklearn.ensemble import VotingClassifier\n",
    "from sklearn.linear_model import LogisticRegression\n",
    "from sklearn.tree import DecisionTreeClassifier\n",
    "from sklearn.svm import SVC\n",
    "\n",
    "log_model = LogisticRegression()\n",
    "svc_model = SVC(kernel='rbf',probability=True)\n",
    "dt_model = DecisionTreeClassifier()\n",
    "\n",
    "vc = VotingClassifier(estimators=[\n",
    "    ('lr', log_model),\n",
    "    ('svc', svc_model),\n",
    "    ('dt', dt_model)\n",
    "], voting='soft')\n",
    "\n",
    "vc.fit(X_train, y_train)\n",
    "\n",
    "y_pred = vc.predict(X_test)\n",
    "report = classification_report(y_test,y_pred)\n",
    "print(report)"
   ]
  },
  {
   "cell_type": "markdown",
   "id": "4d0ec3d6",
   "metadata": {},
   "source": [
    "# Model Training Using Decison Tree"
   ]
  },
  {
   "cell_type": "code",
   "execution_count": 12,
   "id": "f42776a0",
   "metadata": {},
   "outputs": [
    {
     "name": "stdout",
     "output_type": "stream",
     "text": [
      "              precision    recall  f1-score   support\n",
      "\n",
      "       Besni       0.86      0.78      0.82        83\n",
      "     Kecimen       0.83      0.89      0.86        97\n",
      "\n",
      "    accuracy                           0.84       180\n",
      "   macro avg       0.84      0.83      0.84       180\n",
      "weighted avg       0.84      0.84      0.84       180\n",
      "\n"
     ]
    }
   ],
   "source": [
    "from sklearn.tree import DecisionTreeClassifier\n",
    "\n",
    "model = DecisionTreeClassifier()\n",
    "model.fit(X_train,y_train)\n",
    "\n",
    "y_pred = model.predict(X_test)\n",
    "\n",
    "from sklearn.metrics import classification_report\n",
    "\n",
    "report = classification_report(y_test,y_pred)\n",
    "print(report)"
   ]
  },
  {
   "cell_type": "code",
   "execution_count": 13,
   "id": "a7d0b9f7",
   "metadata": {},
   "outputs": [
    {
     "name": "stdout",
     "output_type": "stream",
     "text": [
      "              precision    recall  f1-score   support\n",
      "\n",
      "       Besni       0.86      0.84      0.85        83\n",
      "     Kecimen       0.87      0.89      0.88        97\n",
      "\n",
      "    accuracy                           0.87       180\n",
      "   macro avg       0.87      0.86      0.87       180\n",
      "weighted avg       0.87      0.87      0.87       180\n",
      "\n"
     ]
    }
   ],
   "source": [
    "from sklearn.ensemble import RandomForestClassifier\n",
    "\n",
    "model = RandomForestClassifier()\n",
    "model.fit(X_train,y_train)\n",
    "\n",
    "y_pred = model.predict(X_test)\n",
    "\n",
    "from sklearn.metrics import classification_report\n",
    "\n",
    "report = classification_report(y_test,y_pred)\n",
    "print(report)"
   ]
  },
  {
   "cell_type": "code",
   "execution_count": null,
   "id": "8833261a",
   "metadata": {},
   "outputs": [],
   "source": []
  }
 ],
 "metadata": {
  "kernelspec": {
   "display_name": "Python 3 (ipykernel)",
   "language": "python",
   "name": "python3"
  },
  "language_info": {
   "codemirror_mode": {
    "name": "ipython",
    "version": 3
   },
   "file_extension": ".py",
   "mimetype": "text/x-python",
   "name": "python",
   "nbconvert_exporter": "python",
   "pygments_lexer": "ipython3",
   "version": "3.9.12"
  }
 },
 "nbformat": 4,
 "nbformat_minor": 5
}
