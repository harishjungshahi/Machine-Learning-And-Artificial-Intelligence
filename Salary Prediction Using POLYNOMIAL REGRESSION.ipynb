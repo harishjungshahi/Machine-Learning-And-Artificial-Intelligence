{
 "cells": [
  {
   "cell_type": "markdown",
   "id": "41826b97",
   "metadata": {},
   "source": [
    "# Harish Practise: Salary Prediction Using POLYNOMIAL REGRESSION"
   ]
  },
  {
   "cell_type": "markdown",
   "id": "6f996c71",
   "metadata": {},
   "source": [
    "# Importing Libraries"
   ]
  },
  {
   "cell_type": "code",
   "execution_count": 1,
   "id": "a9f71c86",
   "metadata": {},
   "outputs": [],
   "source": [
    "import pandas as pd"
   ]
  },
  {
   "cell_type": "markdown",
   "id": "0809c4e3",
   "metadata": {},
   "source": [
    "# Loading and Summarizing Dataset"
   ]
  },
  {
   "cell_type": "code",
   "execution_count": 2,
   "id": "fa19c8a9",
   "metadata": {},
   "outputs": [],
   "source": [
    "df = pd.read_csv('dataset.csv')"
   ]
  },
  {
   "cell_type": "code",
   "execution_count": 3,
   "id": "3ff3cf15",
   "metadata": {},
   "outputs": [
    {
     "name": "stdout",
     "output_type": "stream",
     "text": [
      "(10, 2)\n",
      "   Level  Salary\n",
      "0      1   45000\n",
      "1      2   50000\n",
      "2      3   60000\n",
      "3      4   80000\n",
      "4      5  110000\n"
     ]
    }
   ],
   "source": [
    "print(df.shape)\n",
    "print(df.head())"
   ]
  },
  {
   "cell_type": "markdown",
   "id": "b0b381ac",
   "metadata": {},
   "source": [
    "# Segregate Dataset into Input X & Output Y"
   ]
  },
  {
   "cell_type": "code",
   "execution_count": 4,
   "id": "c9164fc9",
   "metadata": {},
   "outputs": [
    {
     "data": {
      "text/plain": [
       "array([[ 1],\n",
       "       [ 2],\n",
       "       [ 3],\n",
       "       [ 4],\n",
       "       [ 5],\n",
       "       [ 6],\n",
       "       [ 7],\n",
       "       [ 8],\n",
       "       [ 9],\n",
       "       [10]], dtype=int64)"
      ]
     },
     "execution_count": 4,
     "metadata": {},
     "output_type": "execute_result"
    }
   ],
   "source": [
    "X = df.iloc[:,:-1].values\n",
    "X"
   ]
  },
  {
   "cell_type": "code",
   "execution_count": 5,
   "id": "c7410583",
   "metadata": {},
   "outputs": [
    {
     "data": {
      "text/plain": [
       "array([  45000,   50000,   60000,   80000,  110000,  150000,  200000,\n",
       "        300000,  500000, 1000000], dtype=int64)"
      ]
     },
     "execution_count": 5,
     "metadata": {},
     "output_type": "execute_result"
    }
   ],
   "source": [
    "y = df.iloc[:,-1].values\n",
    "y"
   ]
  },
  {
   "cell_type": "markdown",
   "id": "b02f7ef8",
   "metadata": {},
   "source": [
    "# Training Dataset using Linear Regression"
   ]
  },
  {
   "cell_type": "code",
   "execution_count": 6,
   "id": "f7d70b4c",
   "metadata": {},
   "outputs": [
    {
     "data": {
      "text/plain": [
       "LinearRegression()"
      ]
     },
     "execution_count": 6,
     "metadata": {},
     "output_type": "execute_result"
    }
   ],
   "source": [
    "from sklearn.linear_model import LinearRegression\n",
    "modelLR = LinearRegression()\n",
    "modelLR.fit(X,y)"
   ]
  },
  {
   "cell_type": "markdown",
   "id": "2d7da46f",
   "metadata": {},
   "source": [
    "# Visualizing Linear Regression results"
   ]
  },
  {
   "cell_type": "code",
   "execution_count": 7,
   "id": "6d4a422d",
   "metadata": {},
   "outputs": [
    {
     "data": {
      "image/png": "[encoded data removed]",
      "text/plain": [
       "<Figure size 432x288 with 1 Axes>"
      ]
     },
     "metadata": {
      "needs_background": "light"
     },
     "output_type": "display_data"
    }
   ],
   "source": [
    "import matplotlib.pyplot as plt\n",
    "plt.scatter(X,y,color='red',marker='*')\n",
    "plt.plot(X,modelLR.predict(X))\n",
    "plt.title(\"Linear Regression\")\n",
    "plt.xlabel(\"Level\")\n",
    "plt.ylabel(\"Salary\")\n",
    "plt.show()"
   ]
  },
  {
   "cell_type": "markdown",
   "id": "9b090830",
   "metadata": {},
   "source": [
    "# fit() - Training Model - Calculating the initial parameters"
   ]
  },
  {
   "cell_type": "markdown",
   "id": "85774a89",
   "metadata": {},
   "source": [
    "# transform() - After Training we gonna transform Data by using above calculated values"
   ]
  },
  {
   "cell_type": "markdown",
   "id": "55900f2a",
   "metadata": {},
   "source": [
    "# fit_transform() - First fit & Transform"
   ]
  },
  {
   "cell_type": "markdown",
   "id": "eff387b5",
   "metadata": {},
   "source": [
    "# Convert X to Polynomial Format (X^n)\n",
    "### n-degree\n",
    "### n=2 consist x & x^2 \n",
    "### n=3 consist x & x^2 & x^3"
   ]
  },
  {
   "cell_type": "code",
   "execution_count": 8,
   "id": "1d2e2fd0",
   "metadata": {},
   "outputs": [],
   "source": [
    "from sklearn.preprocessing import PolynomialFeatures\n",
    "modelPR = PolynomialFeatures(degree=4)\n",
    "xpoly=modelPR.fit_transform(X)"
   ]
  },
  {
   "cell_type": "markdown",
   "id": "2f5e4225",
   "metadata": {},
   "source": [
    "# Train same Linear Regression with X-Polynomial instead of X"
   ]
  },
  {
   "cell_type": "code",
   "execution_count": 9,
   "id": "c4c53629",
   "metadata": {},
   "outputs": [
    {
     "data": {
      "text/plain": [
       "LinearRegression()"
      ]
     },
     "execution_count": 9,
     "metadata": {},
     "output_type": "execute_result"
    }
   ],
   "source": [
    "modelPLR = LinearRegression()\n",
    "modelPLR.fit(xpoly,y)"
   ]
  },
  {
   "cell_type": "markdown",
   "id": "a8bdb59b",
   "metadata": {},
   "source": [
    "# Visualizing Polynomial Regression results"
   ]
  },
  {
   "cell_type": "code",
   "execution_count": 10,
   "id": "17b87766",
   "metadata": {},
   "outputs": [
    {
     "data": {
      "image/png": "[encoded data removed]",
      "text/plain": [
       "<Figure size 432x288 with 1 Axes>"
      ]
     },
     "metadata": {
      "needs_background": "light"
     },
     "output_type": "display_data"
    }
   ],
   "source": [
    "plt.scatter(X,y,color='red')\n",
    "plt.plot(X,modelPLR.predict(modelPR.fit_transform(X)))\n",
    "plt.title(\"Polynomial Regression\")\n",
    "plt.xlabel(\"Level\")\n",
    "plt.ylabel(\"Salary\")\n",
    "plt.show()"
   ]
  },
  {
   "cell_type": "markdown",
   "id": "cb5a887c",
   "metadata": {},
   "source": [
    "# Prediction using Polynomial Regression"
   ]
  },
  {
   "cell_type": "code",
   "execution_count": 11,
   "id": "3e88f040",
   "metadata": {},
   "outputs": [
    {
     "name": "stdout",
     "output_type": "stream",
     "text": [
      "Salary of a person with Level 5 is [121724.94172498]\n"
     ]
    }
   ],
   "source": [
    "X=5\n",
    "salaryPred = modelPLR.predict(modelPR.fit_transform([[X]]))\n",
    "print('Salary of a person with Level {0} is {1}'.format(X,salaryPred))"
   ]
  }
 ],
 "metadata": {
  "kernelspec": {
   "display_name": "Python 3 (ipykernel)",
   "language": "python",
   "name": "python3"
  },
  "language_info": {
   "codemirror_mode": {
    "name": "ipython",
    "version": 3
   },
   "file_extension": ".py",
   "mimetype": "text/x-python",
   "name": "python",
   "nbconvert_exporter": "python",
   "pygments_lexer": "ipython3",
   "version": "3.9.12"
  }
 },
 "nbformat": 4,
 "nbformat_minor": 5
}
