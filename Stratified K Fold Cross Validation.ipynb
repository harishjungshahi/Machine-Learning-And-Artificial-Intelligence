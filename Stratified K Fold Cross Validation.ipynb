{
 "cells": [
  {
   "cell_type": "markdown",
   "id": "2674904c-7e58-41c9-a63d-cba0bcd3cbbd",
   "metadata": {},
   "source": [
    "# Harish Practise: Stratified K Fold Cross Validation"
   ]
  },
  {
   "cell_type": "code",
   "execution_count": 2,
   "id": "e207ddce-3770-40b5-bed6-2f43bc4cc6c8",
   "metadata": {},
   "outputs": [],
   "source": [
    "import numpy as np \n",
    "import matplotlib.pyplot as plt\n",
    "from sklearn.datasets import make_classification\n",
    "from sklearn.linear_model import LogisticRegression\n",
    "from sklearn.model_selection import train_test_split"
   ]
  },
  {
   "cell_type": "markdown",
   "id": "d28cb854-e886-430c-a2b9-6972bfae7f4c",
   "metadata": {},
   "source": [
    "# Generating a synthetic dataset"
   ]
  },
  {
   "cell_type": "code",
   "execution_count": 3,
   "id": "024fd32d-f123-4161-b23d-05942152ed7d",
   "metadata": {},
   "outputs": [],
   "source": [
    "X, y = make_classification(\n",
    "    n_features=10, \n",
    "    n_samples=1000, \n",
    "    n_informative=8,\n",
    "    n_redundant=2,\n",
    "    n_repeated=0,\n",
    "    n_classes=2, \n",
    "    weights = [0.9, 0.1],\n",
    "    random_state=42\n",
    ")"
   ]
  },
  {
   "cell_type": "markdown",
   "id": "44e206d1-63d2-435f-8952-6f89f20bdc19",
   "metadata": {},
   "source": [
    "# Spliting data into training and testing Sets"
   ]
  },
  {
   "cell_type": "code",
   "execution_count": 4,
   "id": "e77ddcc2-92b0-49ff-843a-dcc6185ae8da",
   "metadata": {},
   "outputs": [],
   "source": [
    "X_train, X_test, y_train, y_test = train_test_split(X,y,test_size=0.35,random_state=45)"
   ]
  },
  {
   "cell_type": "code",
   "execution_count": 5,
   "id": "1c4cdc32-71bc-4b08-b53f-052cfe40fdd9",
   "metadata": {},
   "outputs": [
    {
     "data": {
      "text/plain": [
       "Counter({0: 897, 1: 103})"
      ]
     },
     "execution_count": 5,
     "metadata": {},
     "output_type": "execute_result"
    }
   ],
   "source": [
    "from collections import Counter\n",
    "\n",
    "Counter(y)"
   ]
  },
  {
   "cell_type": "code",
   "execution_count": 7,
   "id": "6998ddc6-5fc2-490f-85d6-17fae0c16986",
   "metadata": {},
   "outputs": [],
   "source": [
    "from sklearn.model_selection import KFold\n",
    "kf = KFold(n_splits=5, shuffle=True, random_state=42)"
   ]
  },
  {
   "cell_type": "code",
   "execution_count": 8,
   "id": "b792ca53-b6ba-487d-9924-1e4422457519",
   "metadata": {},
   "outputs": [
    {
     "name": "stdout",
     "output_type": "stream",
     "text": [
      "Counter({0: 177, 1: 23})\n",
      "Counter({0: 179, 1: 21})\n",
      "Counter({0: 183, 1: 17})\n",
      "Counter({0: 181, 1: 19})\n",
      "Counter({0: 177, 1: 23})\n"
     ]
    }
   ],
   "source": [
    "for train_index, test_index in kf.split(X,y):\n",
    "    X_train, X_test = X[train_index],X[test_index]\n",
    "    y_train, y_test = y[train_index],y[test_index]\n",
    "    print(Counter(y_test))"
   ]
  },
  {
   "cell_type": "code",
   "execution_count": 9,
   "id": "d4a69255-238a-4c85-bc07-40fc12ec789c",
   "metadata": {},
   "outputs": [
    {
     "name": "stdout",
     "output_type": "stream",
     "text": [
      "Counter({0: 180, 1: 20})\n",
      "Counter({0: 180, 1: 20})\n",
      "Counter({0: 179, 1: 21})\n",
      "Counter({0: 179, 1: 21})\n",
      "Counter({0: 179, 1: 21})\n"
     ]
    }
   ],
   "source": [
    "from sklearn.model_selection import StratifiedKFold\n",
    "\n",
    "skf = StratifiedKFold(n_splits=5, shuffle=True, random_state=42)\n",
    "\n",
    "for train_index, test_index in skf.split(X,y):\n",
    "        X_train, X_test = X[train_index],X[test_index]\n",
    "        y_train, y_test = y[train_index],y[test_index]\n",
    "        print(Counter(y_test))"
   ]
  },
  {
   "cell_type": "markdown",
   "id": "b5351f24-b4ab-4ce7-b8e8-57655dbf335e",
   "metadata": {},
   "source": [
    "# Cross Validation on Logistic Regression"
   ]
  },
  {
   "cell_type": "code",
   "execution_count": 12,
   "id": "24279a36-b5c3-4d9a-af97-2feeb77cf4d6",
   "metadata": {},
   "outputs": [
    {
     "data": {
      "text/plain": [
       "array([0.915, 0.91 , 0.895, 0.895, 0.895])"
      ]
     },
     "execution_count": 12,
     "metadata": {},
     "output_type": "execute_result"
    }
   ],
   "source": [
    "from sklearn.model_selection import cross_val_score\n",
    "\n",
    "cross_val_score(LogisticRegression(), X, y, cv=skf, scoring=\"accuracy\")"
   ]
  },
  {
   "cell_type": "markdown",
   "id": "89dcb3a4-b845-4dbc-86eb-8bde6adec0de",
   "metadata": {},
   "source": [
    "# Cross Validation on Decision Tree"
   ]
  },
  {
   "cell_type": "code",
   "execution_count": 11,
   "id": "521167b3-b935-4289-800c-4e1b99e4cddd",
   "metadata": {},
   "outputs": [
    {
     "data": {
      "text/plain": [
       "array([0.91 , 0.905, 0.87 , 0.85 , 0.9  ])"
      ]
     },
     "execution_count": 11,
     "metadata": {},
     "output_type": "execute_result"
    }
   ],
   "source": [
    "from sklearn.tree import DecisionTreeClassifier\n",
    "\n",
    "cross_val_score(DecisionTreeClassifier(), X, y, cv=skf, scoring=\"accuracy\")"
   ]
  },
  {
   "cell_type": "markdown",
   "id": "e6794c56-efdf-4276-b1ab-289d88ad9b33",
   "metadata": {},
   "source": [
    "# Cross Validation on Random Forest"
   ]
  },
  {
   "cell_type": "code",
   "execution_count": 15,
   "id": "f42ece70-7467-433e-80d9-1e58c46ecdd1",
   "metadata": {},
   "outputs": [
    {
     "data": {
      "text/plain": [
       "array([0.92 , 0.925, 0.92 , 0.91 , 0.92 ])"
      ]
     },
     "execution_count": 15,
     "metadata": {},
     "output_type": "execute_result"
    }
   ],
   "source": [
    "from sklearn.ensemble import RandomForestClassifier\n",
    "\n",
    "cross_val_score(RandomForestClassifier(), X, y, cv=skf, scoring=\"accuracy\")"
   ]
  },
  {
   "cell_type": "code",
   "execution_count": 16,
   "id": "70736718-5e57-49dc-81a8-8f579461886c",
   "metadata": {},
   "outputs": [
    {
     "data": {
      "text/plain": [
       "array([0.925, 0.905, 0.92 , 0.925, 0.93 ])"
      ]
     },
     "execution_count": 16,
     "metadata": {},
     "output_type": "execute_result"
    }
   ],
   "source": [
    "cross_val_score(RandomForestClassifier(), X, y, cv=5, scoring=\"accuracy\")"
   ]
  },
  {
   "cell_type": "markdown",
   "id": "be2a3dd0-214a-4be1-925b-c829682dd767",
   "metadata": {},
   "source": [
    "When you supply int parameter in cv and if the estimater is a classifier, it will be default use Stratified K Fold where k is set to the number that you specified for cvWhen you supply int parameter in cv and if the estimater is a classifier, it will be default use Stratified K Fold where k is set to the number that you specified for cv"
   ]
  },
  {
   "cell_type": "code",
   "execution_count": null,
   "id": "b55e1b2b-d2c8-4b4c-9b51-4df31f657a10",
   "metadata": {},
   "outputs": [],
   "source": []
  }
 ],
 "metadata": {
  "kernelspec": {
   "display_name": "Python 3 (ipykernel)",
   "language": "python",
   "name": "python3"
  },
  "language_info": {
   "codemirror_mode": {
    "name": "ipython",
    "version": 3
   },
   "file_extension": ".py",
   "mimetype": "text/x-python",
   "name": "python",
   "nbconvert_exporter": "python",
   "pygments_lexer": "ipython3",
   "version": "3.12.7"
  }
 },
 "nbformat": 4,
 "nbformat_minor": 5
}
